{
 "cells": [
  {
   "cell_type": "code",
   "execution_count": 25,
   "id": "c5e62dad-c4b8-4fe8-a827-b37d9fb3e808",
   "metadata": {},
   "outputs": [],
   "source": [
    "import numpy as np\n",
    "import torch.utils.data as dutils\n",
    "import torch\n",
    "from torch import nn\n",
    "from tqdm import tqdm\n",
    "import matplotlib.pyplot as plt\n",
    "import random"
   ]
  },
  {
   "cell_type": "code",
   "execution_count": 130,
   "id": "de2f796e-c6c4-486e-b306-9773b1ac2254",
   "metadata": {},
   "outputs": [
    {
     "name": "stdout",
     "output_type": "stream",
     "text": [
      "Loading the dataset into memory\n",
      "Finished loading the dataset, found 318011 items\n",
      "Using 254408 items for training\n",
      "Loading the dataset into memory\n",
      "Finished loading the dataset, found 318011 items\n",
      "Using 31801 items for validation\n",
      "Loading the dataset into memory\n",
      "Finished loading the dataset, found 318011 items\n",
      "Using 31802 items for testing\n"
     ]
    }
   ],
   "source": [
    "TRAIN_SPLIT = 0.8\n",
    "\n",
    "class Dataset(dutils.Dataset):\n",
    "    def __init__(self, subset='training'):\n",
    "        super().__init__()\n",
    "    \n",
    "        self.subset = subset\n",
    "        print('Loading the dataset into memory')\n",
    "        self.dataset = np.load('dataset.npy')\n",
    "        print(f'Finished loading the dataset, found {len(self.dataset)} items')\n",
    "    \n",
    "        val_split = (1 - TRAIN_SPLIT) / 2\n",
    "    \n",
    "        self.num_train = int(len(self.dataset) * TRAIN_SPLIT)\n",
    "        self.num_val = int(len(self.dataset) * val_split)\n",
    "    \n",
    "        if subset == 'training':\n",
    "            self.num_items = self.num_train\n",
    "        elif subset == 'validation':\n",
    "            self.num_items = self.num_val\n",
    "        elif subset == 'testing':\n",
    "            self.num_items = len(self.dataset) - self.num_train - self.num_val\n",
    "        else:\n",
    "            self.num_items = len(dataset)\n",
    "            print('Warning: Unknown subset, using entire dataset')\n",
    "    \n",
    "        print(f'Using {self.num_items} items for {subset}')\n",
    "\t\n",
    "    def __len__(self):\n",
    "        return self.num_items\n",
    "    \n",
    "    def __getitem__(self, idx):\n",
    "        offset = 0\n",
    "        if self.subset == 'validation':\n",
    "            offset += self.num_train\n",
    "        if self.subset == 'testing':\n",
    "            offset += self.num_train + self.num_val\n",
    "        example = self.dataset[offset + idx]\n",
    "        inputs = example[:-1]\n",
    "        label = example[-1]\n",
    "        return inputs, label\n",
    "    \n",
    "train_ds = Dataset(subset='training')\n",
    "val_ds = Dataset(subset='validation')\n",
    "test_ds = Dataset(subset='testing')\n",
    "\n",
    "train_dl = dutils.DataLoader(train_ds, batch_size=256, shuffle=True)\n",
    "val_dl = dutils.DataLoader(val_ds, batch_size=256, shuffle=True)\n",
    "test_dl = dutils.DataLoader(test_ds, batch_size=256, shuffle=True)"
   ]
  },
  {
   "cell_type": "code",
   "execution_count": 149,
   "id": "3a37017d-899e-478b-92bd-5c7635d2d1fe",
   "metadata": {},
   "outputs": [
    {
     "data": {
      "text/plain": [
       "374"
      ]
     },
     "execution_count": 149,
     "metadata": {},
     "output_type": "execute_result"
    }
   ],
   "source": [
    "len(train_ds.dataset[0])"
   ]
  },
  {
   "cell_type": "code",
   "execution_count": 132,
   "id": "f504c5c4-155e-4c2b-adb2-820f9ed83b24",
   "metadata": {},
   "outputs": [],
   "source": [
    "class TinyNet(nn.Module):\n",
    "\tdef __init__(self):\n",
    "\t\tsuper().__init__()\n",
    "\t\tself.stack = nn.Sequential(\n",
    "\t\t\tnn.Linear(373, 128),\n",
    "\t\t\tnn.ReLU(True),\n",
    "\n",
    "\t\t\tnn.Linear(128, 64),\n",
    "\t\t\tnn.ReLU(True),\n",
    "\n",
    "\t\t\tnn.Linear(64, 1)\n",
    "\t\t)\n",
    "\n",
    "\tdef forward(self, x):\n",
    "\t\treturn self.stack(x)"
   ]
  },
  {
   "cell_type": "code",
   "execution_count": 133,
   "id": "2ee9eb6f-35eb-4873-854e-9937ad4ea534",
   "metadata": {},
   "outputs": [
    {
     "name": "stdout",
     "output_type": "stream",
     "text": [
      "Using cuda\n"
     ]
    }
   ],
   "source": [
    "device = (\n",
    "\t'cuda' if torch.cuda.is_available() else\n",
    "\t'mps' if torch.backends.mps.is_available() else\n",
    "\t'cpu'\n",
    ")\n",
    "\n",
    "print(f'Using {device}')"
   ]
  },
  {
   "cell_type": "code",
   "execution_count": 134,
   "id": "70779a94-25f6-4602-a1bc-1a8ff79f7012",
   "metadata": {},
   "outputs": [],
   "source": [
    "net = TinyNet()\n",
    "net = net.to(device)\n",
    "\n",
    "optim = torch.optim.Adam(net.parameters(), lr=1e-3)\n",
    "loss_fn = torch.nn.BCEWithLogitsLoss()"
   ]
  },
  {
   "cell_type": "code",
   "execution_count": 135,
   "id": "02ddfa59-a859-475f-ad1f-d9f41748c882",
   "metadata": {},
   "outputs": [],
   "source": [
    "def train(dl):\n",
    "\tavg_loss = 0\n",
    "\tavg_acc = 0\n",
    "\tfor inputs, targets in tqdm(dl):\n",
    "\t\tinputs = inputs.to(device)\n",
    "\t\ttargets = targets.to(device)\n",
    "\n",
    "\t\tpreds = net(inputs)\n",
    "\t\tpreds = preds.view(-1)\n",
    "\t\tloss = loss_fn(preds, targets)\n",
    "\n",
    "\t\tnet.zero_grad()\n",
    "\t\tloss.backward()\n",
    "\t\toptim.step()\n",
    "\n",
    "\t\tavg_loss += loss.item()\n",
    "\n",
    "\t\tpreds = torch.sigmoid(preds)\n",
    "\t\tacc = (preds.round() == targets).float().sum().item() / len(targets)\n",
    "\t\tavg_acc += acc\n",
    "\tavg_loss /= len(dl)\n",
    "\tavg_acc /= len(dl)\n",
    "\n",
    "\treturn avg_loss, avg_acc"
   ]
  },
  {
   "cell_type": "code",
   "execution_count": 136,
   "id": "1c1e435b-80dc-4706-88ed-e54de6ae8a54",
   "metadata": {},
   "outputs": [],
   "source": [
    "def test(dl):\n",
    "\tavg_loss = 0\n",
    "\tavg_acc = 0\n",
    "\tfor inputs, targets in tqdm(dl):\n",
    "\t\tinputs = inputs.to(device)\n",
    "\t\ttargets = targets.to(device)\n",
    "\n",
    "\t\twith torch.no_grad():\n",
    "\t\t\tpreds = net(inputs)\n",
    "\t\tpreds = preds.view(-1)\n",
    "\t\tloss = loss_fn(preds, targets)\n",
    "\n",
    "\t\tavg_loss += loss.item()\n",
    "\n",
    "\t\tpreds = torch.sigmoid(preds)\n",
    "\t\tacc = (preds.round() == targets).float().sum().item() / len(targets)\n",
    "\t\tavg_acc += acc\n",
    "\tavg_loss /= len(dl)\n",
    "\tavg_acc /= len(dl)\n",
    "\n",
    "\treturn avg_loss, avg_acc"
   ]
  },
  {
   "cell_type": "code",
   "execution_count": 137,
   "id": "437bfc44-6f49-455f-9044-330e75a24a51",
   "metadata": {},
   "outputs": [
    {
     "name": "stdout",
     "output_type": "stream",
     "text": [
      "Epoch 1\n"
     ]
    },
    {
     "name": "stderr",
     "output_type": "stream",
     "text": [
      "100%|███████████████████████████████████████████████████████████████████████████████| 994/994 [00:05<00:00, 198.21it/s]\n",
      "100%|███████████████████████████████████████████████████████████████████████████████| 125/125 [00:00<00:00, 255.53it/s]\n"
     ]
    },
    {
     "name": "stdout",
     "output_type": "stream",
     "text": [
      "Training Loss: 0.5235195448640846\n",
      "Training Accuracy: 0.7186564700704225\n",
      "Validation Loss: 0.493739670753479\n",
      "Validation Accuracy : 0.7405345394736842\n",
      "Epoch 2\n"
     ]
    },
    {
     "name": "stderr",
     "output_type": "stream",
     "text": [
      "100%|███████████████████████████████████████████████████████████████████████████████| 994/994 [00:04<00:00, 199.27it/s]\n",
      "100%|███████████████████████████████████████████████████████████████████████████████| 125/125 [00:00<00:00, 261.06it/s]\n"
     ]
    },
    {
     "name": "stdout",
     "output_type": "stream",
     "text": [
      "Training Loss: 0.46261241909124\n",
      "Training Accuracy: 0.7665977112676056\n",
      "Validation Loss: 0.4069239568710327\n",
      "Validation Accuracy : 0.8033941885964911\n",
      "Epoch 3\n"
     ]
    },
    {
     "name": "stderr",
     "output_type": "stream",
     "text": [
      "100%|███████████████████████████████████████████████████████████████████████████████| 994/994 [00:05<00:00, 195.10it/s]\n",
      "100%|███████████████████████████████████████████████████████████████████████████████| 125/125 [00:00<00:00, 263.05it/s]\n"
     ]
    },
    {
     "name": "stdout",
     "output_type": "stream",
     "text": [
      "Training Loss: 0.3443785734339739\n",
      "Training Accuracy: 0.8413815706740443\n",
      "Validation Loss: 0.3174102816581726\n",
      "Validation Accuracy : 0.8548788377192982\n",
      "Epoch 4\n"
     ]
    },
    {
     "name": "stderr",
     "output_type": "stream",
     "text": [
      "100%|███████████████████████████████████████████████████████████████████████████████| 994/994 [00:05<00:00, 197.57it/s]\n",
      "100%|███████████████████████████████████████████████████████████████████████████████| 125/125 [00:00<00:00, 258.46it/s]\n"
     ]
    },
    {
     "name": "stdout",
     "output_type": "stream",
     "text": [
      "Training Loss: 0.22811718765548777\n",
      "Training Accuracy: 0.902414801307847\n",
      "Validation Loss: 0.19333652263879775\n",
      "Validation Accuracy : 0.9176123903508772\n",
      "Epoch 5\n"
     ]
    },
    {
     "name": "stderr",
     "output_type": "stream",
     "text": [
      "100%|███████████████████████████████████████████████████████████████████████████████| 994/994 [00:05<00:00, 195.35it/s]\n",
      "100%|███████████████████████████████████████████████████████████████████████████████| 125/125 [00:00<00:00, 266.29it/s]"
     ]
    },
    {
     "name": "stdout",
     "output_type": "stream",
     "text": [
      "Training Loss: 0.14753723618250258\n",
      "Training Accuracy: 0.9401296843561369\n",
      "Validation Loss: 0.12226186472177505\n",
      "Validation Accuracy : 0.9511419956140351\n"
     ]
    },
    {
     "name": "stderr",
     "output_type": "stream",
     "text": [
      "\n"
     ]
    }
   ],
   "source": [
    "train_losses, train_accs = [], []\n",
    "val_losses, val_accs = [], []\n",
    "for epoch in range(5):\n",
    "\tprint(f'Epoch {epoch+1}')\n",
    "\tt_loss, t_accuracy = train(train_dl)\n",
    "\tv_loss, v_accuracy = test(val_dl)\n",
    "\ttrain_losses.append(t_loss)\n",
    "\ttrain_accs.append(t_accuracy)\n",
    "\tval_losses.append(v_loss)\n",
    "\tval_accs.append(v_accuracy)\n",
    "\tprint(f'Training Loss: {t_loss}')\n",
    "\tprint(f'Training Accuracy: {t_accuracy}')\n",
    "\tprint(f'Validation Loss: {v_loss}')\n",
    "\tprint(f'Validation Accuracy : {v_accuracy}')"
   ]
  },
  {
   "cell_type": "code",
   "execution_count": 138,
   "id": "4e7d9cd6-e420-49ea-be40-40eb8e926080",
   "metadata": {},
   "outputs": [
    {
     "data": {
      "image/png": "[encoded data removed]",
      "text/plain": [
       "<Figure size 1200x400 with 2 Axes>"
      ]
     },
     "metadata": {},
     "output_type": "display_data"
    }
   ],
   "source": [
    "plt.figure(figsize=(12, 4))\n",
    "\n",
    "plt.subplot(1, 2, 1)\n",
    "plt.plot(train_losses, label=\"Train Loss\")\n",
    "plt.plot(val_losses, label=\"Validation Loss\")\n",
    "plt.legend()\n",
    "plt.xlabel(\"Epochs\")\n",
    "plt.ylabel(\"Loss\")\n",
    "plt.title(\"Training and Validation Loss\")\n",
    "\n",
    "plt.subplot(1, 2, 2)\n",
    "plt.plot(train_accs, label=\"Train Accuracy\")\n",
    "plt.plot(val_accs, label=\"Validation Accuracy\")\n",
    "plt.legend()\n",
    "plt.xlabel(\"Epochs\")\n",
    "plt.ylabel(\"Accuracy\")\n",
    "plt.title(\"Training and Validation Accuracy\")\n",
    "\n",
    "plt.show()"
   ]
  },
  {
   "cell_type": "code",
   "execution_count": 139,
   "id": "90876dec-8215-4cae-bed9-85dcbef7a86d",
   "metadata": {},
   "outputs": [
    {
     "name": "stderr",
     "output_type": "stream",
     "text": [
      "100%|███████████████████████████████████████████████████████████████████████████████| 125/125 [00:00<00:00, 277.87it/s]"
     ]
    },
    {
     "name": "stdout",
     "output_type": "stream",
     "text": [
      "Loss: 0.12241272234916686, Accuracy: 0.9516120689655172\n"
     ]
    },
    {
     "name": "stderr",
     "output_type": "stream",
     "text": [
      "\n"
     ]
    }
   ],
   "source": [
    "loss, accuracy = test(test_dl)\n",
    "print(f\"Loss: {loss}, Accuracy: {accuracy}\")"
   ]
  },
  {
   "cell_type": "code",
   "execution_count": 140,
   "id": "1c72820f-26ab-4106-ae18-428f340a2eef",
   "metadata": {},
   "outputs": [],
   "source": [
    "def get_accuracy_by_minute():\n",
    "    acc_dic = {}\n",
    "    count_dic = {}\n",
    "    for batch, targets in tqdm(test_dl):\n",
    "        batch = batch.to(device)\n",
    "        targets = targets.to(device)\n",
    "        with torch.no_grad():\n",
    "            predictions = net(batch)\n",
    "        predictions = torch.sigmoid(predictions)\n",
    "        for i in range(len(batch)):\n",
    "            tstep = str(int(batch[i][-1] * 30))\n",
    "            if tstep in acc_dic:\n",
    "                if predictions[i].round() == targets[i]:\n",
    "                    acc_dic[tstep] += 1\n",
    "                count_dic[tstep] += 1\n",
    "            else:\n",
    "                acc_dic[tstep] = 0\n",
    "                if predictions[i].round() == targets[i]:\n",
    "                    acc_dic[tstep] = 1\n",
    "                count_dic[tstep] = 1\n",
    "    return acc_dic, count_dic"
   ]
  },
  {
   "cell_type": "code",
   "execution_count": 141,
   "id": "a3b0dafa-2401-4233-90d4-185291cbef5b",
   "metadata": {},
   "outputs": [
    {
     "name": "stderr",
     "output_type": "stream",
     "text": [
      "100%|████████████████████████████████████████████████████████████████████████████████| 125/125 [00:37<00:00,  3.30it/s]\n"
     ]
    }
   ],
   "source": [
    "acc_dic, count_dic = get_accuracy_by_minute()"
   ]
  },
  {
   "cell_type": "code",
   "execution_count": 142,
   "id": "cf88cb8d-7954-44da-aca3-68ebefd42d3f",
   "metadata": {},
   "outputs": [
    {
     "data": {
      "text/plain": [
       "{'29': 606,\n",
       " '10': 966,\n",
       " '19': 949,\n",
       " '11': 1002,\n",
       " '12': 992,\n",
       " '34': 258,\n",
       " '30': 494,\n",
       " '7': 930,\n",
       " '3': 905,\n",
       " '13': 972,\n",
       " '4': 954,\n",
       " '9': 964,\n",
       " '22': 926,\n",
       " '24': 886,\n",
       " '26': 818,\n",
       " '6': 958,\n",
       " '20': 969,\n",
       " '25': 824,\n",
       " '5': 916,\n",
       " '14': 995,\n",
       " '33': 310,\n",
       " '27': 750,\n",
       " '16': 962,\n",
       " '0': 943,\n",
       " '31': 414,\n",
       " '37': 128,\n",
       " '1': 943,\n",
       " '17': 989,\n",
       " '36': 167,\n",
       " '18': 965,\n",
       " '15': 1033,\n",
       " '28': 668,\n",
       " '2': 905,\n",
       " '23': 844,\n",
       " '8': 1015,\n",
       " '21': 973,\n",
       " '32': 349,\n",
       " '45': 20,\n",
       " '40': 61,\n",
       " '41': 40,\n",
       " '35': 200,\n",
       " '43': 32,\n",
       " '39': 76,\n",
       " '42': 40,\n",
       " '38': 102,\n",
       " '44': 16,\n",
       " '47': 8,\n",
       " '48': 4,\n",
       " '49': 4,\n",
       " '46': 7,\n",
       " '54': 1,\n",
       " '52': 1,\n",
       " '50': 2,\n",
       " '56': 1}"
      ]
     },
     "execution_count": 142,
     "metadata": {},
     "output_type": "execute_result"
    }
   ],
   "source": [
    "acc_dic"
   ]
  },
  {
   "cell_type": "code",
   "execution_count": 143,
   "id": "f4767bcf-b6bf-4306-ad8d-983942bce57b",
   "metadata": {},
   "outputs": [],
   "source": [
    "for n in acc_dic.keys():\n",
    "    acc_dic[n] /= count_dic[n]"
   ]
  },
  {
   "cell_type": "code",
   "execution_count": 144,
   "id": "f2305d70-8f56-4086-b356-3218400faadc",
   "metadata": {},
   "outputs": [],
   "source": [
    "idx = 0\n",
    "acc_by_time = []\n",
    "while str(idx) in acc_dic:\n",
    "    n = acc_dic[str(idx)]\n",
    "    acc_by_time.append(n)\n",
    "    idx += 1"
   ]
  },
  {
   "cell_type": "code",
   "execution_count": 145,
   "id": "848f0e8b-f531-49aa-8986-0cb604e76616",
   "metadata": {},
   "outputs": [
    {
     "data": {
      "text/plain": [
       "[0.8635531135531136,\n",
       " 0.8723404255319149,\n",
       " 0.8820662768031189,\n",
       " 0.861904761904762,\n",
       " 0.8825161887141536,\n",
       " 0.8927875243664717,\n",
       " 0.9020715630885122,\n",
       " 0.910871694417238,\n",
       " 0.9415584415584416,\n",
       " 0.9359223300970874,\n",
       " 0.9526627218934911,\n",
       " 0.9533777354900095,\n",
       " 0.9566055930568949,\n",
       " 0.972972972972973,\n",
       " 0.9678988326848249,\n",
       " 0.9681349578256795,\n",
       " 0.9717171717171718,\n",
       " 0.9831013916500994,\n",
       " 0.9796954314720813,\n",
       " 0.983419689119171,\n",
       " 0.9797775530839231,\n",
       " 0.9788732394366197,\n",
       " 0.9861554845580405,\n",
       " 0.9848308051341891,\n",
       " 0.9943883277216611,\n",
       " 0.988009592326139,\n",
       " 0.9963459196102314,\n",
       " 0.9933774834437086,\n",
       " 0.9985052316890882,\n",
       " 0.9934426229508196,\n",
       " 0.9959677419354839,\n",
       " 0.9880668257756563,\n",
       " 0.9886685552407932,\n",
       " 0.9967845659163987,\n",
       " 1.0,\n",
       " 0.9900990099009901,\n",
       " 0.9881656804733728,\n",
       " 1.0,\n",
       " 0.9902912621359223,\n",
       " 1.0,\n",
       " 1.0,\n",
       " 1.0,\n",
       " 1.0,\n",
       " 1.0,\n",
       " 1.0,\n",
       " 1.0,\n",
       " 0.875,\n",
       " 0.8888888888888888,\n",
       " 1.0,\n",
       " 1.0,\n",
       " 1.0]"
      ]
     },
     "execution_count": 145,
     "metadata": {},
     "output_type": "execute_result"
    }
   ],
   "source": [
    "acc_by_time"
   ]
  },
  {
   "cell_type": "code",
   "execution_count": 146,
   "id": "88fc6b18-656c-420a-8dcc-cb346417455d",
   "metadata": {},
   "outputs": [
    {
     "data": {
      "image/png": "[encoded data removed]",
      "text/plain": [
       "<Figure size 800x400 with 1 Axes>"
      ]
     },
     "metadata": {},
     "output_type": "display_data"
    }
   ],
   "source": [
    "plt.figure(figsize=(8, 4))\n",
    "plt.title('Accuracy over time')\n",
    "plt.plot(acc_by_time)\n",
    "plt.xlabel('Minutes')\n",
    "plt.ylabel('Accuracy')\n",
    "plt.show()"
   ]
  },
  {
   "cell_type": "code",
   "execution_count": 150,
   "id": "8da57590-35d4-43d2-bd7e-0a8a3edd8ad2",
   "metadata": {},
   "outputs": [],
   "source": [
    "inputs, targets = next(iter(train_dl))"
   ]
  }
 ],
 "metadata": {
  "kernelspec": {
   "display_name": "Python 3 (ipykernel)",
   "language": "python",
   "name": "python3"
  },
  "language_info": {
   "codemirror_mode": {
    "name": "ipython",
    "version": 3
   },
   "file_extension": ".py",
   "mimetype": "text/x-python",
   "name": "python",
   "nbconvert_exporter": "python",
   "pygments_lexer": "ipython3",
   "version": "3.12.2"
  }
 },
 "nbformat": 4,
 "nbformat_minor": 5
}
