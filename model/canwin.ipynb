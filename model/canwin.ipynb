{
 "cells": [
  {
   "cell_type": "code",
   "execution_count": 26,
   "id": "c5e62dad-c4b8-4fe8-a827-b37d9fb3e808",
   "metadata": {},
   "outputs": [],
   "source": [
    "import numpy as np\n",
    "import torch.utils.data as dutils\n",
    "import torch\n",
    "from torch import nn\n",
    "from tqdm import tqdm\n",
    "import matplotlib.pyplot as plt\n",
    "from network import TinyNet"
   ]
  },
  {
   "cell_type": "code",
   "execution_count": 27,
   "id": "de2f796e-c6c4-486e-b306-9773b1ac2254",
   "metadata": {},
   "outputs": [
    {
     "name": "stdout",
     "output_type": "stream",
     "text": [
      "Loading the dataset into memory\n",
      "Finished loading the dataset, found 318011 items\n",
      "Using 254408 items for training\n",
      "Using 31801 items for validation\n",
      "Using 31802 items for testing\n"
     ]
    }
   ],
   "source": [
    "TRAIN_SPLIT = 0.8\n",
    "\n",
    "print('Loading the dataset into memory')\n",
    "dataset = np.load('dataset.npy')\n",
    "print(f'Finished loading the dataset, found {len(dataset)} items')\n",
    "\n",
    "class Dataset(dutils.Dataset):\n",
    "    def __init__(self, subset='training'):\n",
    "        super().__init__()\n",
    "    \n",
    "        self.subset = subset\n",
    "        \n",
    "        val_split = (1 - TRAIN_SPLIT) / 2\n",
    "    \n",
    "        self.num_train = int(len(dataset) * TRAIN_SPLIT)\n",
    "        self.num_val = int(len(dataset) * val_split)\n",
    "    \n",
    "        if subset == 'training':\n",
    "            self.num_items = self.num_train\n",
    "        elif subset == 'validation':\n",
    "            self.num_items = self.num_val\n",
    "        elif subset == 'testing':\n",
    "            self.num_items = len(dataset) - self.num_train - self.num_val\n",
    "        else:\n",
    "            self.num_items = len(dataset)\n",
    "            print('Warning: Unknown subset, using entire dataset')\n",
    "    \n",
    "        print(f'Using {self.num_items} items for {subset}')\n",
    "\t\n",
    "    def __len__(self):\n",
    "        return self.num_items\n",
    "    \n",
    "    def __getitem__(self, idx):\n",
    "        offset = 0\n",
    "        if self.subset == 'validation':\n",
    "            offset += self.num_train\n",
    "        if self.subset == 'testing':\n",
    "            offset += self.num_train + self.num_val\n",
    "        example = dataset[offset + idx]\n",
    "        inputs = example[:-1]\n",
    "        label = example[-1]\n",
    "        return inputs, label\n",
    "    \n",
    "train_ds = Dataset(subset='training')\n",
    "val_ds = Dataset(subset='validation')\n",
    "test_ds = Dataset(subset='testing')\n",
    "\n",
    "train_dl = dutils.DataLoader(train_ds, batch_size=256, shuffle=True)\n",
    "val_dl = dutils.DataLoader(val_ds, batch_size=256, shuffle=True)\n",
    "test_dl = dutils.DataLoader(test_ds, batch_size=256, shuffle=True)"
   ]
  },
  {
   "cell_type": "code",
   "execution_count": 28,
   "id": "3a37017d-899e-478b-92bd-5c7635d2d1fe",
   "metadata": {},
   "outputs": [
    {
     "data": {
      "text/plain": [
       "334"
      ]
     },
     "execution_count": 28,
     "metadata": {},
     "output_type": "execute_result"
    }
   ],
   "source": [
    "len(dataset[0])"
   ]
  },
  {
   "cell_type": "code",
   "execution_count": 29,
   "id": "2ee9eb6f-35eb-4873-854e-9937ad4ea534",
   "metadata": {},
   "outputs": [
    {
     "name": "stdout",
     "output_type": "stream",
     "text": [
      "Using cuda\n"
     ]
    }
   ],
   "source": [
    "device = (\n",
    "\t'cuda' if torch.cuda.is_available() else\n",
    "\t'mps' if torch.backends.mps.is_available() else\n",
    "\t'cpu'\n",
    ")\n",
    "\n",
    "print(f'Using {device}')"
   ]
  },
  {
   "cell_type": "code",
   "execution_count": 30,
   "id": "70779a94-25f6-4602-a1bc-1a8ff79f7012",
   "metadata": {},
   "outputs": [],
   "source": [
    "net = TinyNet()\n",
    "net = net.to(device)\n",
    "\n",
    "optim = torch.optim.Adam(net.parameters(), lr=1e-3)\n",
    "loss_fn = torch.nn.BCEWithLogitsLoss()"
   ]
  },
  {
   "cell_type": "code",
   "execution_count": 31,
   "id": "02ddfa59-a859-475f-ad1f-d9f41748c882",
   "metadata": {},
   "outputs": [],
   "source": [
    "def train(dl):\n",
    "\tavg_loss = 0\n",
    "\tavg_acc = 0\n",
    "\tfor inputs, targets in tqdm(dl):\n",
    "\t\tinputs = inputs.to(device)\n",
    "\t\ttargets = targets.to(device)\n",
    "\n",
    "\t\tpreds = net(inputs)\n",
    "\t\tpreds = preds.view(-1)\n",
    "\t\tloss = loss_fn(preds, targets)\n",
    "\n",
    "\t\tnet.zero_grad()\n",
    "\t\tloss.backward()\n",
    "\t\toptim.step()\n",
    "\n",
    "\t\tavg_loss += loss.item()\n",
    "\n",
    "\t\tpreds = torch.sigmoid(preds)\n",
    "\t\tacc = (preds.round() == targets).float().sum().item() / len(targets)\n",
    "\t\tavg_acc += acc\n",
    "\tavg_loss /= len(dl)\n",
    "\tavg_acc /= len(dl)\n",
    "\n",
    "\treturn avg_loss, avg_acc"
   ]
  },
  {
   "cell_type": "code",
   "execution_count": 32,
   "id": "1c1e435b-80dc-4706-88ed-e54de6ae8a54",
   "metadata": {},
   "outputs": [],
   "source": [
    "def test(dl):\n",
    "\tavg_loss = 0\n",
    "\tavg_acc = 0\n",
    "\tfor inputs, targets in tqdm(dl):\n",
    "\t\tinputs = inputs.to(device)\n",
    "\t\ttargets = targets.to(device)\n",
    "\n",
    "\t\twith torch.no_grad():\n",
    "\t\t\tpreds = net(inputs)\n",
    "\t\tpreds = preds.view(-1)\n",
    "\t\tloss = loss_fn(preds, targets)\n",
    "\n",
    "\t\tavg_loss += loss.item()\n",
    "\n",
    "\t\tpreds = torch.sigmoid(preds)\n",
    "\t\tacc = (preds.round() == targets).float().sum().item() / len(targets)\n",
    "\t\tavg_acc += acc\n",
    "\tavg_loss /= len(dl)\n",
    "\tavg_acc /= len(dl)\n",
    "\n",
    "\treturn avg_loss, avg_acc"
   ]
  },
  {
   "cell_type": "code",
   "execution_count": 33,
   "id": "437bfc44-6f49-455f-9044-330e75a24a51",
   "metadata": {},
   "outputs": [
    {
     "name": "stdout",
     "output_type": "stream",
     "text": [
      "Epoch 1\n"
     ]
    },
    {
     "name": "stderr",
     "output_type": "stream",
     "text": [
      "100%|███████████████████████████████████████████████████████████████████████████████| 994/994 [00:03<00:00, 318.81it/s]\n",
      "100%|███████████████████████████████████████████████████████████████████████████████| 125/125 [00:00<00:00, 506.12it/s]\n"
     ]
    },
    {
     "name": "stdout",
     "output_type": "stream",
     "text": [
      "Training Loss: 0.5294301972182943\n",
      "Training Accuracy: 0.7106309733400402\n",
      "Validation Loss: 0.514294766664505\n",
      "Validation Accuracy : 0.7248952850877194\n",
      "Epoch 2\n"
     ]
    },
    {
     "name": "stderr",
     "output_type": "stream",
     "text": [
      "100%|███████████████████████████████████████████████████████████████████████████████| 994/994 [00:02<00:00, 334.85it/s]\n",
      "100%|███████████████████████████████████████████████████████████████████████████████| 125/125 [00:00<00:00, 488.03it/s]\n"
     ]
    },
    {
     "name": "stdout",
     "output_type": "stream",
     "text": [
      "Training Loss: 0.4860506603115761\n",
      "Training Accuracy: 0.7472879464285714\n",
      "Validation Loss: 0.45659969305992126\n",
      "Validation Accuracy : 0.7718788377192982\n",
      "Epoch 3\n"
     ]
    },
    {
     "name": "stderr",
     "output_type": "stream",
     "text": [
      "100%|███████████████████████████████████████████████████████████████████████████████| 994/994 [00:03<00:00, 317.37it/s]\n",
      "100%|███████████████████████████████████████████████████████████████████████████████| 125/125 [00:00<00:00, 490.27it/s]\n"
     ]
    },
    {
     "name": "stdout",
     "output_type": "stream",
     "text": [
      "Training Loss: 0.4076284041527052\n",
      "Training Accuracy: 0.8018207683601609\n",
      "Validation Loss: 0.39526342606544496\n",
      "Validation Accuracy : 0.8092680921052631\n",
      "Epoch 4\n"
     ]
    },
    {
     "name": "stderr",
     "output_type": "stream",
     "text": [
      "100%|███████████████████████████████████████████████████████████████████████████████| 994/994 [00:03<00:00, 318.17it/s]\n",
      "100%|███████████████████████████████████████████████████████████████████████████████| 125/125 [00:00<00:00, 519.09it/s]\n"
     ]
    },
    {
     "name": "stdout",
     "output_type": "stream",
     "text": [
      "Training Loss: 0.31211343779410394\n",
      "Training Accuracy: 0.8573858777665996\n",
      "Validation Loss: 0.27573626601696016\n",
      "Validation Accuracy : 0.8784232456140351\n",
      "Epoch 5\n"
     ]
    },
    {
     "name": "stderr",
     "output_type": "stream",
     "text": [
      "100%|███████████████████████████████████████████████████████████████████████████████| 994/994 [00:03<00:00, 310.19it/s]\n",
      "100%|███████████████████████████████████████████████████████████████████████████████| 125/125 [00:00<00:00, 473.95it/s]\n"
     ]
    },
    {
     "name": "stdout",
     "output_type": "stream",
     "text": [
      "Training Loss: 0.2370939699996645\n",
      "Training Accuracy: 0.8959637512575452\n",
      "Validation Loss: 0.22133854246139525\n",
      "Validation Accuracy : 0.9027987938596491\n",
      "Epoch 6\n"
     ]
    },
    {
     "name": "stderr",
     "output_type": "stream",
     "text": [
      "100%|███████████████████████████████████████████████████████████████████████████████| 994/994 [00:03<00:00, 317.22it/s]\n",
      "100%|███████████████████████████████████████████████████████████████████████████████| 125/125 [00:00<00:00, 496.99it/s]\n"
     ]
    },
    {
     "name": "stdout",
     "output_type": "stream",
     "text": [
      "Training Loss: 0.18084199132933704\n",
      "Training Accuracy: 0.9228661028672033\n",
      "Validation Loss: 0.1707268618941307\n",
      "Validation Accuracy : 0.926688048245614\n",
      "Epoch 7\n"
     ]
    },
    {
     "name": "stderr",
     "output_type": "stream",
     "text": [
      "100%|███████████████████████████████████████████████████████████████████████████████| 994/994 [00:03<00:00, 317.50it/s]\n",
      "100%|███████████████████████████████████████████████████████████████████████████████| 125/125 [00:00<00:00, 474.97it/s]\n"
     ]
    },
    {
     "name": "stdout",
     "output_type": "stream",
     "text": [
      "Training Loss: 0.13800170672101753\n",
      "Training Accuracy: 0.942941869969819\n",
      "Validation Loss: 0.1365189829468727\n",
      "Validation Accuracy : 0.942734649122807\n",
      "Epoch 8\n"
     ]
    },
    {
     "name": "stderr",
     "output_type": "stream",
     "text": [
      "100%|███████████████████████████████████████████████████████████████████████████████| 994/994 [00:03<00:00, 311.80it/s]\n",
      "100%|███████████████████████████████████████████████████████████████████████████████| 125/125 [00:00<00:00, 455.31it/s]\n"
     ]
    },
    {
     "name": "stdout",
     "output_type": "stream",
     "text": [
      "Training Loss: 0.10396967018004394\n",
      "Training Accuracy: 0.958114782444668\n",
      "Validation Loss: 0.09622021773457527\n",
      "Validation Accuracy : 0.960844298245614\n",
      "Epoch 9\n"
     ]
    },
    {
     "name": "stderr",
     "output_type": "stream",
     "text": [
      "100%|███████████████████████████████████████████████████████████████████████████████| 994/994 [00:03<00:00, 321.04it/s]\n",
      "100%|███████████████████████████████████████████████████████████████████████████████| 125/125 [00:00<00:00, 477.05it/s]\n"
     ]
    },
    {
     "name": "stdout",
     "output_type": "stream",
     "text": [
      "Training Loss: 0.08671412493666293\n",
      "Training Accuracy: 0.9654957872233401\n",
      "Validation Loss: 0.07300280234217643\n",
      "Validation Accuracy : 0.970750548245614\n",
      "Epoch 10\n"
     ]
    },
    {
     "name": "stderr",
     "output_type": "stream",
     "text": [
      "100%|███████████████████████████████████████████████████████████████████████████████| 994/994 [00:03<00:00, 282.85it/s]\n",
      "100%|███████████████████████████████████████████████████████████████████████████████| 125/125 [00:00<00:00, 477.61it/s]\n"
     ]
    },
    {
     "name": "stdout",
     "output_type": "stream",
     "text": [
      "Training Loss: 0.06578520225582109\n",
      "Training Accuracy: 0.9745263770120725\n",
      "Validation Loss: 0.0720497776567936\n",
      "Validation Accuracy : 0.971625\n",
      "Epoch 11\n"
     ]
    },
    {
     "name": "stderr",
     "output_type": "stream",
     "text": [
      "100%|███████████████████████████████████████████████████████████████████████████████| 994/994 [00:03<00:00, 322.09it/s]\n",
      "100%|███████████████████████████████████████████████████████████████████████████████| 125/125 [00:00<00:00, 499.99it/s]\n"
     ]
    },
    {
     "name": "stdout",
     "output_type": "stream",
     "text": [
      "Training Loss: 0.05597823522460293\n",
      "Training Accuracy: 0.9785208123742455\n",
      "Validation Loss: 0.06708176147937775\n",
      "Validation Accuracy : 0.974265899122807\n",
      "Epoch 12\n"
     ]
    },
    {
     "name": "stderr",
     "output_type": "stream",
     "text": [
      "100%|███████████████████████████████████████████████████████████████████████████████| 994/994 [00:03<00:00, 320.51it/s]\n",
      "100%|███████████████████████████████████████████████████████████████████████████████| 125/125 [00:00<00:00, 548.22it/s]\n"
     ]
    },
    {
     "name": "stdout",
     "output_type": "stream",
     "text": [
      "Training Loss: 0.04609435913855701\n",
      "Training Accuracy: 0.9827975666498994\n",
      "Validation Loss: 0.041924773648381236\n",
      "Validation Accuracy : 0.98478125\n",
      "Epoch 13\n"
     ]
    },
    {
     "name": "stderr",
     "output_type": "stream",
     "text": [
      "100%|███████████████████████████████████████████████████████████████████████████████| 994/994 [00:03<00:00, 324.88it/s]\n",
      "100%|███████████████████████████████████████████████████████████████████████████████| 125/125 [00:00<00:00, 441.11it/s]\n"
     ]
    },
    {
     "name": "stdout",
     "output_type": "stream",
     "text": [
      "Training Loss: 0.04048038087082536\n",
      "Training Accuracy: 0.9852317027162978\n",
      "Validation Loss: 0.03163569095730782\n",
      "Validation Accuracy : 0.989109649122807\n",
      "Epoch 14\n"
     ]
    },
    {
     "name": "stderr",
     "output_type": "stream",
     "text": [
      "100%|███████████████████████████████████████████████████████████████████████████████| 994/994 [00:03<00:00, 317.92it/s]\n",
      "100%|███████████████████████████████████████████████████████████████████████████████| 125/125 [00:00<00:00, 452.68it/s]\n"
     ]
    },
    {
     "name": "stdout",
     "output_type": "stream",
     "text": [
      "Training Loss: 0.03563880258365356\n",
      "Training Accuracy: 0.9869900653923541\n",
      "Validation Loss: 0.037486795887351036\n",
      "Validation Accuracy : 0.987344298245614\n",
      "Epoch 15\n"
     ]
    },
    {
     "name": "stderr",
     "output_type": "stream",
     "text": [
      "100%|███████████████████████████████████████████████████████████████████████████████| 994/994 [00:03<00:00, 308.52it/s]\n",
      "100%|███████████████████████████████████████████████████████████████████████████████| 125/125 [00:00<00:00, 486.58it/s]\n"
     ]
    },
    {
     "name": "stdout",
     "output_type": "stream",
     "text": [
      "Training Loss: 0.03138836554928085\n",
      "Training Accuracy: 0.9887859972334004\n",
      "Validation Loss: 0.05547779740393162\n",
      "Validation Accuracy : 0.979625548245614\n",
      "Epoch 16\n"
     ]
    },
    {
     "name": "stderr",
     "output_type": "stream",
     "text": [
      "100%|███████████████████████████████████████████████████████████████████████████████| 994/994 [00:03<00:00, 324.19it/s]\n",
      "100%|███████████████████████████████████████████████████████████████████████████████| 125/125 [00:00<00:00, 520.75it/s]\n"
     ]
    },
    {
     "name": "stdout",
     "output_type": "stream",
     "text": [
      "Training Loss: 0.029936876458114003\n",
      "Training Accuracy: 0.9891717492454729\n",
      "Validation Loss: 0.06236524088680744\n",
      "Validation Accuracy : 0.9778283991228071\n",
      "Epoch 17\n"
     ]
    },
    {
     "name": "stderr",
     "output_type": "stream",
     "text": [
      "100%|███████████████████████████████████████████████████████████████████████████████| 994/994 [00:02<00:00, 331.74it/s]\n",
      "100%|███████████████████████████████████████████████████████████████████████████████| 125/125 [00:00<00:00, 517.83it/s]\n"
     ]
    },
    {
     "name": "stdout",
     "output_type": "stream",
     "text": [
      "Training Loss: 0.02356392853182199\n",
      "Training Accuracy: 0.9918838028169014\n",
      "Validation Loss: 0.019880865424871445\n",
      "Validation Accuracy : 0.99409375\n",
      "Epoch 18\n"
     ]
    },
    {
     "name": "stderr",
     "output_type": "stream",
     "text": [
      "100%|███████████████████████████████████████████████████████████████████████████████| 994/994 [00:03<00:00, 320.87it/s]\n",
      "100%|███████████████████████████████████████████████████████████████████████████████| 125/125 [00:00<00:00, 514.89it/s]\n"
     ]
    },
    {
     "name": "stdout",
     "output_type": "stream",
     "text": [
      "Training Loss: 0.026787075096267224\n",
      "Training Accuracy: 0.990366888832998\n",
      "Validation Loss: 0.04040757209062576\n",
      "Validation Accuracy : 0.985015899122807\n",
      "Epoch 19\n"
     ]
    },
    {
     "name": "stderr",
     "output_type": "stream",
     "text": [
      "100%|███████████████████████████████████████████████████████████████████████████████| 994/994 [00:03<00:00, 322.01it/s]\n",
      "100%|███████████████████████████████████████████████████████████████████████████████| 125/125 [00:00<00:00, 513.04it/s]\n"
     ]
    },
    {
     "name": "stdout",
     "output_type": "stream",
     "text": [
      "Training Loss: 0.021776006273387497\n",
      "Training Accuracy: 0.9922296277665996\n",
      "Validation Loss: 0.025384029175154865\n",
      "Validation Accuracy : 0.99159375\n",
      "Epoch 20\n"
     ]
    },
    {
     "name": "stderr",
     "output_type": "stream",
     "text": [
      "100%|███████████████████████████████████████████████████████████████████████████████| 994/994 [00:03<00:00, 330.40it/s]\n",
      "100%|███████████████████████████████████████████████████████████████████████████████| 125/125 [00:00<00:00, 507.11it/s]"
     ]
    },
    {
     "name": "stdout",
     "output_type": "stream",
     "text": [
      "Training Loss: 0.022208050747989476\n",
      "Training Accuracy: 0.9923828910965795\n",
      "Validation Loss: 0.023213800732046364\n",
      "Validation Accuracy : 0.99196875\n"
     ]
    },
    {
     "name": "stderr",
     "output_type": "stream",
     "text": [
      "\n"
     ]
    }
   ],
   "source": [
    "train_losses, train_accs = [], []\n",
    "val_losses, val_accs = [], []\n",
    "for epoch in range(20):\n",
    "\tprint(f'Epoch {epoch+1}')\n",
    "\tt_loss, t_accuracy = train(train_dl)\n",
    "\tv_loss, v_accuracy = test(val_dl)\n",
    "\ttrain_losses.append(t_loss)\n",
    "\ttrain_accs.append(t_accuracy)\n",
    "\tval_losses.append(v_loss)\n",
    "\tval_accs.append(v_accuracy)\n",
    "\tprint(f'Training Loss: {t_loss}')\n",
    "\tprint(f'Training Accuracy: {t_accuracy}')\n",
    "\tprint(f'Validation Loss: {v_loss}')\n",
    "\tprint(f'Validation Accuracy : {v_accuracy}')"
   ]
  },
  {
   "cell_type": "code",
   "execution_count": 34,
   "id": "4e7d9cd6-e420-49ea-be40-40eb8e926080",
   "metadata": {},
   "outputs": [
    {
     "data": {
      "image/png": "[encoded data removed]",
      "text/plain": [
       "<Figure size 1200x400 with 2 Axes>"
      ]
     },
     "metadata": {},
     "output_type": "display_data"
    }
   ],
   "source": [
    "plt.figure(figsize=(12, 4))\n",
    "\n",
    "plt.subplot(1, 2, 1)\n",
    "plt.plot(train_losses, label=\"Train Loss\")\n",
    "plt.plot(val_losses, label=\"Validation Loss\")\n",
    "plt.legend()\n",
    "plt.xlabel(\"Epochs\")\n",
    "plt.ylabel(\"Loss\")\n",
    "plt.title(\"Training and Validation Loss\")\n",
    "\n",
    "plt.subplot(1, 2, 2)\n",
    "plt.plot(train_accs, label=\"Train Accuracy\")\n",
    "plt.plot(val_accs, label=\"Validation Accuracy\")\n",
    "plt.legend()\n",
    "plt.xlabel(\"Epochs\")\n",
    "plt.ylabel(\"Accuracy\")\n",
    "plt.title(\"Training and Validation Accuracy\")\n",
    "\n",
    "plt.show()"
   ]
  },
  {
   "cell_type": "code",
   "execution_count": 35,
   "id": "90876dec-8215-4cae-bed9-85dcbef7a86d",
   "metadata": {},
   "outputs": [
    {
     "name": "stderr",
     "output_type": "stream",
     "text": [
      "100%|███████████████████████████████████████████████████████████████████████████████| 125/125 [00:00<00:00, 523.68it/s]"
     ]
    },
    {
     "name": "stdout",
     "output_type": "stream",
     "text": [
      "Loss: 0.023796460662037135, Accuracy: 0.99153125\n"
     ]
    },
    {
     "name": "stderr",
     "output_type": "stream",
     "text": [
      "\n"
     ]
    }
   ],
   "source": [
    "loss, accuracy = test(test_dl)\n",
    "print(f\"Loss: {loss}, Accuracy: {accuracy}\")"
   ]
  },
  {
   "cell_type": "code",
   "execution_count": 36,
   "id": "1c72820f-26ab-4106-ae18-428f340a2eef",
   "metadata": {},
   "outputs": [],
   "source": [
    "def get_accuracy_by_minute():\n",
    "    acc_dic = {}\n",
    "    count_dic = {}\n",
    "    for batch, targets in tqdm(test_dl):\n",
    "        batch = batch.to(device)\n",
    "        targets = targets.to(device)\n",
    "        with torch.no_grad():\n",
    "            predictions = net(batch)\n",
    "        predictions = torch.sigmoid(predictions)\n",
    "        for i in range(len(batch)):\n",
    "            tstep = str(int(batch[i][-1] * 30))\n",
    "            if tstep in acc_dic:\n",
    "                if predictions[i].round() == targets[i]:\n",
    "                    acc_dic[tstep] += 1\n",
    "                count_dic[tstep] += 1\n",
    "            else:\n",
    "                acc_dic[tstep] = 0\n",
    "                if predictions[i].round() == targets[i]:\n",
    "                    acc_dic[tstep] = 1\n",
    "                count_dic[tstep] = 1\n",
    "    return acc_dic, count_dic"
   ]
  },
  {
   "cell_type": "code",
   "execution_count": 37,
   "id": "a3b0dafa-2401-4233-90d4-185291cbef5b",
   "metadata": {},
   "outputs": [
    {
     "name": "stderr",
     "output_type": "stream",
     "text": [
      "100%|████████████████████████████████████████████████████████████████████████████████| 125/125 [00:04<00:00, 26.06it/s]\n"
     ]
    }
   ],
   "source": [
    "acc_dic, count_dic = get_accuracy_by_minute()"
   ]
  },
  {
   "cell_type": "code",
   "execution_count": 38,
   "id": "cf88cb8d-7954-44da-aca3-68ebefd42d3f",
   "metadata": {},
   "outputs": [
    {
     "data": {
      "text/plain": [
       "{'28': 625,\n",
       " '17': 990,\n",
       " '22': 897,\n",
       " '27': 745,\n",
       " '2': 1081,\n",
       " '9': 1017,\n",
       " '11': 1041,\n",
       " '13': 1022,\n",
       " '4': 1047,\n",
       " '18': 956,\n",
       " '23': 913,\n",
       " '21': 953,\n",
       " '15': 1050,\n",
       " '1': 1012,\n",
       " '19': 944,\n",
       " '7': 1042,\n",
       " '10': 1028,\n",
       " '30': 540,\n",
       " '16': 1068,\n",
       " '24': 894,\n",
       " '0': 1049,\n",
       " '20': 932,\n",
       " '32': 352,\n",
       " '12': 989,\n",
       " '8': 1044,\n",
       " '5': 1026,\n",
       " '3': 1013,\n",
       " '40': 49,\n",
       " '25': 828,\n",
       " '36': 163,\n",
       " '35': 201,\n",
       " '37': 141,\n",
       " '38': 104,\n",
       " '43': 21,\n",
       " '29': 563,\n",
       " '6': 1065,\n",
       " '26': 802,\n",
       " '14': 1060,\n",
       " '31': 461,\n",
       " '34': 259,\n",
       " '33': 301,\n",
       " '39': 81,\n",
       " '51': 2,\n",
       " '41': 47,\n",
       " '46': 13,\n",
       " '42': 43,\n",
       " '47': 6,\n",
       " '44': 26,\n",
       " '45': 11,\n",
       " '54': 3,\n",
       " '49': 2,\n",
       " '52': 2,\n",
       " '50': 3,\n",
       " '48': 4}"
      ]
     },
     "execution_count": 38,
     "metadata": {},
     "output_type": "execute_result"
    }
   ],
   "source": [
    "acc_dic"
   ]
  },
  {
   "cell_type": "code",
   "execution_count": 39,
   "id": "f4767bcf-b6bf-4306-ad8d-983942bce57b",
   "metadata": {},
   "outputs": [],
   "source": [
    "for n in acc_dic.keys():\n",
    "    acc_dic[n] /= count_dic[n]"
   ]
  },
  {
   "cell_type": "code",
   "execution_count": 40,
   "id": "f2305d70-8f56-4086-b356-3218400faadc",
   "metadata": {},
   "outputs": [],
   "source": [
    "idx = 0\n",
    "acc_by_time = []\n",
    "while str(idx) in acc_dic:\n",
    "    n = acc_dic[str(idx)]\n",
    "    acc_by_time.append(n)\n",
    "    idx += 1"
   ]
  },
  {
   "cell_type": "code",
   "execution_count": 41,
   "id": "cd43fba2-e1b8-47d8-85d4-4151daf81504",
   "metadata": {},
   "outputs": [
    {
     "data": {
      "text/plain": [
       "0.9914893617021276"
      ]
     },
     "execution_count": 41,
     "metadata": {},
     "output_type": "execute_result"
    }
   ],
   "source": [
    "acc_by_time[20]"
   ]
  },
  {
   "cell_type": "code",
   "execution_count": 42,
   "id": "848f0e8b-f531-49aa-8986-0cb604e76616",
   "metadata": {},
   "outputs": [
    {
     "data": {
      "text/plain": [
       "[0.9712962962962963,\n",
       " 0.9721421709894332,\n",
       " 0.976513098464318,\n",
       " 0.9759152215799615,\n",
       " 0.9858757062146892,\n",
       " 0.9884393063583815,\n",
       " 0.9833795013850416,\n",
       " 0.9886148007590133,\n",
       " 0.9914529914529915,\n",
       " 0.9921951219512195,\n",
       " 0.9922779922779923,\n",
       " 0.9961722488038277,\n",
       " 0.9949698189134809,\n",
       " 0.9931972789115646,\n",
       " 0.9906542056074766,\n",
       " 0.9980988593155894,\n",
       " 0.994413407821229,\n",
       " 0.9939759036144579,\n",
       " 0.9979123173277662,\n",
       " 0.9957805907172996,\n",
       " 0.9914893617021276,\n",
       " 0.9947807933194155,\n",
       " 0.9988864142538976,\n",
       " 0.9934711643090316,\n",
       " 0.9977678571428571,\n",
       " 0.9987937273823885,\n",
       " 1.0,\n",
       " 0.9973226238286479,\n",
       " 0.9952229299363057,\n",
       " 1.0,\n",
       " 1.0,\n",
       " 1.0,\n",
       " 0.9971671388101983,\n",
       " 0.9933993399339934,\n",
       " 1.0,\n",
       " 1.0,\n",
       " 1.0,\n",
       " 0.9929577464788732,\n",
       " 1.0,\n",
       " 1.0,\n",
       " 1.0,\n",
       " 1.0,\n",
       " 1.0,\n",
       " 1.0,\n",
       " 1.0,\n",
       " 1.0,\n",
       " 1.0,\n",
       " 1.0,\n",
       " 1.0,\n",
       " 1.0,\n",
       " 1.0,\n",
       " 1.0,\n",
       " 1.0]"
      ]
     },
     "execution_count": 42,
     "metadata": {},
     "output_type": "execute_result"
    }
   ],
   "source": [
    "acc_by_time"
   ]
  },
  {
   "cell_type": "code",
   "execution_count": 43,
   "id": "88fc6b18-656c-420a-8dcc-cb346417455d",
   "metadata": {},
   "outputs": [
    {
     "data": {
      "image/png": "[encoded data removed]",
      "text/plain": [
       "<Figure size 800x400 with 1 Axes>"
      ]
     },
     "metadata": {},
     "output_type": "display_data"
    }
   ],
   "source": [
    "plt.figure(figsize=(8, 4))\n",
    "plt.title('Accuracy over time')\n",
    "plt.plot(acc_by_time)\n",
    "plt.xlabel('Minutes')\n",
    "plt.ylabel('Accuracy')\n",
    "plt.show()"
   ]
  },
  {
   "cell_type": "code",
   "execution_count": 44,
   "id": "8da57590-35d4-43d2-bd7e-0a8a3edd8ad2",
   "metadata": {},
   "outputs": [],
   "source": [
    "inputs, targets = next(iter(train_dl))"
   ]
  },
  {
   "cell_type": "code",
   "execution_count": 45,
   "id": "38bc5754-70ea-4eff-8440-61baf6eaeb05",
   "metadata": {},
   "outputs": [
    {
     "data": {
      "text/plain": [
       "256"
      ]
     },
     "execution_count": 45,
     "metadata": {},
     "output_type": "execute_result"
    }
   ],
   "source": [
    "len(inputs)"
   ]
  },
  {
   "cell_type": "code",
   "execution_count": 46,
   "id": "c827815c-6eb1-4632-bd20-4a75a62fca9c",
   "metadata": {},
   "outputs": [
    {
     "data": {
      "text/plain": [
       "256"
      ]
     },
     "execution_count": 46,
     "metadata": {},
     "output_type": "execute_result"
    }
   ],
   "source": [
    "len(targets)"
   ]
  },
  {
   "cell_type": "code",
   "execution_count": 47,
   "id": "f4d7695d-724f-46e5-b5fd-4efd89e4f176",
   "metadata": {},
   "outputs": [],
   "source": [
    "net = net.cpu()"
   ]
  },
  {
   "cell_type": "code",
   "execution_count": 48,
   "id": "d6ecc3cc-3c47-479b-b42b-bf4a227f68f9",
   "metadata": {},
   "outputs": [],
   "source": [
    "torch.save(net.state_dict(), 'net.pth')"
   ]
  }
 ],
 "metadata": {
  "kernelspec": {
   "display_name": "Python 3 (ipykernel)",
   "language": "python",
   "name": "python3"
  },
  "language_info": {
   "codemirror_mode": {
    "name": "ipython",
    "version": 3
   },
   "file_extension": ".py",
   "mimetype": "text/x-python",
   "name": "python",
   "nbconvert_exporter": "python",
   "pygments_lexer": "ipython3",
   "version": "3.12.2"
  }
 },
 "nbformat": 4,
 "nbformat_minor": 5
}
