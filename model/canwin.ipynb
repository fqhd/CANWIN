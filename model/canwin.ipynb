{
 "cells": [
  {
   "cell_type": "code",
   "execution_count": 1,
   "id": "c5e62dad-c4b8-4fe8-a827-b37d9fb3e808",
   "metadata": {},
   "outputs": [],
   "source": [
    "import numpy as np\n",
    "import torch.utils.data as dutils\n",
    "import torch\n",
    "from torch import nn\n",
    "from tqdm import tqdm\n",
    "import matplotlib.pyplot as plt"
   ]
  },
  {
   "cell_type": "code",
   "execution_count": 2,
   "id": "de2f796e-c6c4-486e-b306-9773b1ac2254",
   "metadata": {},
   "outputs": [
    {
     "name": "stdout",
     "output_type": "stream",
     "text": [
      "Loading the dataset into memory\n",
      "Finished loading the dataset, found 318011 items\n",
      "Using 254408 items for training\n",
      "Using 31801 items for validation\n",
      "Using 31802 items for testing\n"
     ]
    }
   ],
   "source": [
    "TRAIN_SPLIT = 0.8\n",
    "\n",
    "print('Loading the dataset into memory')\n",
    "dataset = np.load('dataset.npy')\n",
    "print(f'Finished loading the dataset, found {len(dataset)} items')\n",
    "\n",
    "class Dataset(dutils.Dataset):\n",
    "    def __init__(self, subset='training'):\n",
    "        super().__init__()\n",
    "    \n",
    "        self.subset = subset\n",
    "        \n",
    "        val_split = (1 - TRAIN_SPLIT) / 2\n",
    "    \n",
    "        self.num_train = int(len(dataset) * TRAIN_SPLIT)\n",
    "        self.num_val = int(len(dataset) * val_split)\n",
    "    \n",
    "        if subset == 'training':\n",
    "            self.num_items = self.num_train\n",
    "        elif subset == 'validation':\n",
    "            self.num_items = self.num_val\n",
    "        elif subset == 'testing':\n",
    "            self.num_items = len(dataset) - self.num_train - self.num_val\n",
    "        else:\n",
    "            self.num_items = len(dataset)\n",
    "            print('Warning: Unknown subset, using entire dataset')\n",
    "    \n",
    "        print(f'Using {self.num_items} items for {subset}')\n",
    "\t\n",
    "    def __len__(self):\n",
    "        return self.num_items\n",
    "    \n",
    "    def __getitem__(self, idx):\n",
    "        offset = 0\n",
    "        if self.subset == 'validation':\n",
    "            offset += self.num_train\n",
    "        if self.subset == 'testing':\n",
    "            offset += self.num_train + self.num_val\n",
    "        example = dataset[offset + idx]\n",
    "        inputs = example[:-1]\n",
    "        label = example[-1]\n",
    "        return inputs, label\n",
    "    \n",
    "train_ds = Dataset(subset='training')\n",
    "val_ds = Dataset(subset='validation')\n",
    "test_ds = Dataset(subset='testing')\n",
    "\n",
    "train_dl = dutils.DataLoader(train_ds, batch_size=256, shuffle=True)\n",
    "val_dl = dutils.DataLoader(val_ds, batch_size=256, shuffle=True)\n",
    "test_dl = dutils.DataLoader(test_ds, batch_size=256, shuffle=True)"
   ]
  },
  {
   "cell_type": "code",
   "execution_count": 3,
   "id": "3a37017d-899e-478b-92bd-5c7635d2d1fe",
   "metadata": {},
   "outputs": [
    {
     "data": {
      "text/plain": [
       "334"
      ]
     },
     "execution_count": 3,
     "metadata": {},
     "output_type": "execute_result"
    }
   ],
   "source": [
    "len(dataset[0])"
   ]
  },
  {
   "cell_type": "code",
   "execution_count": 4,
   "id": "f504c5c4-155e-4c2b-adb2-820f9ed83b24",
   "metadata": {},
   "outputs": [],
   "source": [
    "class TinyNet(nn.Module):\n",
    "\tdef __init__(self):\n",
    "\t\tsuper().__init__()\n",
    "\t\tself.stack = nn.Sequential(\n",
    "\t\t\tnn.Linear(333, 128),\n",
    "\t\t\tnn.ReLU(True),\n",
    "\n",
    "\t\t\tnn.Linear(128, 64),\n",
    "\t\t\tnn.ReLU(True),\n",
    "\n",
    "\t\t\tnn.Linear(64, 1)\n",
    "\t\t)\n",
    "\n",
    "\tdef forward(self, x):\n",
    "\t\treturn self.stack(x)"
   ]
  },
  {
   "cell_type": "code",
   "execution_count": 5,
   "id": "2ee9eb6f-35eb-4873-854e-9937ad4ea534",
   "metadata": {},
   "outputs": [
    {
     "name": "stdout",
     "output_type": "stream",
     "text": [
      "Using cuda\n"
     ]
    }
   ],
   "source": [
    "device = (\n",
    "\t'cuda' if torch.cuda.is_available() else\n",
    "\t'mps' if torch.backends.mps.is_available() else\n",
    "\t'cpu'\n",
    ")\n",
    "\n",
    "print(f'Using {device}')"
   ]
  },
  {
   "cell_type": "code",
   "execution_count": 6,
   "id": "70779a94-25f6-4602-a1bc-1a8ff79f7012",
   "metadata": {},
   "outputs": [],
   "source": [
    "net = TinyNet()\n",
    "net = net.to(device)\n",
    "\n",
    "optim = torch.optim.Adam(net.parameters(), lr=1e-3)\n",
    "loss_fn = torch.nn.BCEWithLogitsLoss()"
   ]
  },
  {
   "cell_type": "code",
   "execution_count": 7,
   "id": "02ddfa59-a859-475f-ad1f-d9f41748c882",
   "metadata": {},
   "outputs": [],
   "source": [
    "def train(dl):\n",
    "\tavg_loss = 0\n",
    "\tavg_acc = 0\n",
    "\tfor inputs, targets in tqdm(dl):\n",
    "\t\tinputs = inputs.to(device)\n",
    "\t\ttargets = targets.to(device)\n",
    "\n",
    "\t\tpreds = net(inputs)\n",
    "\t\tpreds = preds.view(-1)\n",
    "\t\tloss = loss_fn(preds, targets)\n",
    "\n",
    "\t\tnet.zero_grad()\n",
    "\t\tloss.backward()\n",
    "\t\toptim.step()\n",
    "\n",
    "\t\tavg_loss += loss.item()\n",
    "\n",
    "\t\tpreds = torch.sigmoid(preds)\n",
    "\t\tacc = (preds.round() == targets).float().sum().item() / len(targets)\n",
    "\t\tavg_acc += acc\n",
    "\tavg_loss /= len(dl)\n",
    "\tavg_acc /= len(dl)\n",
    "\n",
    "\treturn avg_loss, avg_acc"
   ]
  },
  {
   "cell_type": "code",
   "execution_count": 8,
   "id": "1c1e435b-80dc-4706-88ed-e54de6ae8a54",
   "metadata": {},
   "outputs": [],
   "source": [
    "def test(dl):\n",
    "\tavg_loss = 0\n",
    "\tavg_acc = 0\n",
    "\tfor inputs, targets in tqdm(dl):\n",
    "\t\tinputs = inputs.to(device)\n",
    "\t\ttargets = targets.to(device)\n",
    "\n",
    "\t\twith torch.no_grad():\n",
    "\t\t\tpreds = net(inputs)\n",
    "\t\tpreds = preds.view(-1)\n",
    "\t\tloss = loss_fn(preds, targets)\n",
    "\n",
    "\t\tavg_loss += loss.item()\n",
    "\n",
    "\t\tpreds = torch.sigmoid(preds)\n",
    "\t\tacc = (preds.round() == targets).float().sum().item() / len(targets)\n",
    "\t\tavg_acc += acc\n",
    "\tavg_loss /= len(dl)\n",
    "\tavg_acc /= len(dl)\n",
    "\n",
    "\treturn avg_loss, avg_acc"
   ]
  },
  {
   "cell_type": "code",
   "execution_count": 9,
   "id": "437bfc44-6f49-455f-9044-330e75a24a51",
   "metadata": {},
   "outputs": [
    {
     "name": "stdout",
     "output_type": "stream",
     "text": [
      "Epoch 1\n"
     ]
    },
    {
     "name": "stderr",
     "output_type": "stream",
     "text": [
      "100%|███████████████████████████████████████████████████████████████████████████████| 994/994 [00:02<00:00, 382.90it/s]\n",
      "100%|███████████████████████████████████████████████████████████████████████████████| 125/125 [00:00<00:00, 550.60it/s]\n"
     ]
    },
    {
     "name": "stdout",
     "output_type": "stream",
     "text": [
      "Training Loss: 0.5286090557783902\n",
      "Training Accuracy: 0.7113097334004024\n",
      "Validation Loss: 0.5004058530330658\n",
      "Validation Accuracy : 0.7381123903508772\n",
      "Epoch 2\n"
     ]
    },
    {
     "name": "stderr",
     "output_type": "stream",
     "text": [
      "100%|███████████████████████████████████████████████████████████████████████████████| 994/994 [00:02<00:00, 383.87it/s]\n",
      "100%|███████████████████████████████████████████████████████████████████████████████| 125/125 [00:00<00:00, 599.60it/s]\n"
     ]
    },
    {
     "name": "stdout",
     "output_type": "stream",
     "text": [
      "Training Loss: 0.47069715422164027\n",
      "Training Accuracy: 0.7582446239939638\n",
      "Validation Loss: 0.44099189281463624\n",
      "Validation Accuracy : 0.7781584429824561\n",
      "Epoch 3\n"
     ]
    },
    {
     "name": "stderr",
     "output_type": "stream",
     "text": [
      "100%|███████████████████████████████████████████████████████████████████████████████| 994/994 [00:02<00:00, 366.32it/s]\n",
      "100%|███████████████████████████████████████████████████████████████████████████████| 125/125 [00:00<00:00, 617.96it/s]\n"
     ]
    },
    {
     "name": "stdout",
     "output_type": "stream",
     "text": [
      "Training Loss: 0.3860973085855814\n",
      "Training Accuracy: 0.8146786971830986\n",
      "Validation Loss: 0.35320362162590024\n",
      "Validation Accuracy : 0.8349555921052632\n",
      "Epoch 4\n"
     ]
    },
    {
     "name": "stderr",
     "output_type": "stream",
     "text": [
      "100%|███████████████████████████████████████████████████████████████████████████████| 994/994 [00:02<00:00, 375.54it/s]\n",
      "100%|███████████████████████████████████████████████████████████████████████████████| 125/125 [00:00<00:00, 637.04it/s]\n"
     ]
    },
    {
     "name": "stdout",
     "output_type": "stream",
     "text": [
      "Training Loss: 0.3010356667895672\n",
      "Training Accuracy: 0.8628002389336016\n",
      "Validation Loss: 0.2675198221206665\n",
      "Validation Accuracy : 0.8808163377192982\n",
      "Epoch 5\n"
     ]
    },
    {
     "name": "stderr",
     "output_type": "stream",
     "text": [
      "100%|███████████████████████████████████████████████████████████████████████████████| 994/994 [00:02<00:00, 375.16it/s]\n",
      "100%|███████████████████████████████████████████████████████████████████████████████| 125/125 [00:00<00:00, 627.80it/s]\n"
     ]
    },
    {
     "name": "stdout",
     "output_type": "stream",
     "text": [
      "Training Loss: 0.2281870334680891\n",
      "Training Accuracy: 0.9008989876760563\n",
      "Validation Loss: 0.20237128579616548\n",
      "Validation Accuracy : 0.913109649122807\n",
      "Epoch 6\n"
     ]
    },
    {
     "name": "stderr",
     "output_type": "stream",
     "text": [
      "100%|███████████████████████████████████████████████████████████████████████████████| 994/994 [00:02<00:00, 372.02it/s]\n",
      "100%|███████████████████████████████████████████████████████████████████████████████| 125/125 [00:00<00:00, 556.45it/s]\n"
     ]
    },
    {
     "name": "stdout",
     "output_type": "stream",
     "text": [
      "Training Loss: 0.17383483013276843\n",
      "Training Accuracy: 0.9260145246478872\n",
      "Validation Loss: 0.17497434318065644\n",
      "Validation Accuracy : 0.925547149122807\n",
      "Epoch 7\n"
     ]
    },
    {
     "name": "stderr",
     "output_type": "stream",
     "text": [
      "100%|███████████████████████████████████████████████████████████████████████████████| 994/994 [00:02<00:00, 378.19it/s]\n",
      "100%|███████████████████████████████████████████████████████████████████████████████| 125/125 [00:00<00:00, 529.86it/s]\n"
     ]
    },
    {
     "name": "stdout",
     "output_type": "stream",
     "text": [
      "Training Loss: 0.13778503967722658\n",
      "Training Accuracy: 0.9425658639336015\n",
      "Validation Loss: 0.13489769113063813\n",
      "Validation Accuracy : 0.943594298245614\n",
      "Epoch 8\n"
     ]
    },
    {
     "name": "stderr",
     "output_type": "stream",
     "text": [
      "100%|███████████████████████████████████████████████████████████████████████████████| 994/994 [00:02<00:00, 364.02it/s]\n",
      "100%|███████████████████████████████████████████████████████████████████████████████| 125/125 [00:00<00:00, 620.11it/s]\n"
     ]
    },
    {
     "name": "stdout",
     "output_type": "stream",
     "text": [
      "Training Loss: 0.10777424110972905\n",
      "Training Accuracy: 0.9562242203219317\n",
      "Validation Loss: 0.09644777977466583\n",
      "Validation Accuracy : 0.962375548245614\n",
      "Epoch 9\n"
     ]
    },
    {
     "name": "stderr",
     "output_type": "stream",
     "text": [
      "100%|███████████████████████████████████████████████████████████████████████████████| 994/994 [00:02<00:00, 379.89it/s]\n",
      "100%|███████████████████████████████████████████████████████████████████████████████| 125/125 [00:00<00:00, 597.54it/s]\n"
     ]
    },
    {
     "name": "stdout",
     "output_type": "stream",
     "text": [
      "Training Loss: 0.09012020658889047\n",
      "Training Accuracy: 0.9636071114185111\n",
      "Validation Loss: 0.12186016142368317\n",
      "Validation Accuracy : 0.9484380482456141\n",
      "Epoch 10\n"
     ]
    },
    {
     "name": "stderr",
     "output_type": "stream",
     "text": [
      "100%|███████████████████████████████████████████████████████████████████████████████| 994/994 [00:02<00:00, 364.03it/s]\n",
      "100%|███████████████████████████████████████████████████████████████████████████████| 125/125 [00:00<00:00, 467.48it/s]\n"
     ]
    },
    {
     "name": "stdout",
     "output_type": "stream",
     "text": [
      "Training Loss: 0.0742002910272906\n",
      "Training Accuracy: 0.9707054828973843\n",
      "Validation Loss: 0.06908107888698578\n",
      "Validation Accuracy : 0.974140899122807\n",
      "Epoch 11\n"
     ]
    },
    {
     "name": "stderr",
     "output_type": "stream",
     "text": [
      "100%|███████████████████████████████████████████████████████████████████████████████| 994/994 [00:02<00:00, 367.21it/s]\n",
      "100%|███████████████████████████████████████████████████████████████████████████████| 125/125 [00:00<00:00, 600.39it/s]\n"
     ]
    },
    {
     "name": "stdout",
     "output_type": "stream",
     "text": [
      "Training Loss: 0.06230703947814537\n",
      "Training Accuracy: 0.9757806212273642\n",
      "Validation Loss: 0.08891872805356979\n",
      "Validation Accuracy : 0.963547149122807\n",
      "Epoch 12\n"
     ]
    },
    {
     "name": "stderr",
     "output_type": "stream",
     "text": [
      "100%|███████████████████████████████████████████████████████████████████████████████| 994/994 [00:02<00:00, 374.02it/s]\n",
      "100%|███████████████████████████████████████████████████████████████████████████████| 125/125 [00:00<00:00, 567.10it/s]\n"
     ]
    },
    {
     "name": "stdout",
     "output_type": "stream",
     "text": [
      "Training Loss: 0.052940498154902725\n",
      "Training Accuracy: 0.979398736167002\n",
      "Validation Loss: 0.05342160341143608\n",
      "Validation Accuracy : 0.979844298245614\n",
      "Epoch 13\n"
     ]
    },
    {
     "name": "stderr",
     "output_type": "stream",
     "text": [
      "100%|███████████████████████████████████████████████████████████████████████████████| 994/994 [00:02<00:00, 376.60it/s]\n",
      "100%|███████████████████████████████████████████████████████████████████████████████| 125/125 [00:00<00:00, 602.47it/s]\n"
     ]
    },
    {
     "name": "stdout",
     "output_type": "stream",
     "text": [
      "Training Loss: 0.04664325604582546\n",
      "Training Accuracy: 0.9823967240945675\n",
      "Validation Loss: 0.04825916504859924\n",
      "Validation Accuracy : 0.981515899122807\n",
      "Epoch 14\n"
     ]
    },
    {
     "name": "stderr",
     "output_type": "stream",
     "text": [
      "100%|███████████████████████████████████████████████████████████████████████████████| 994/994 [00:02<00:00, 384.67it/s]\n",
      "100%|███████████████████████████████████████████████████████████████████████████████| 125/125 [00:00<00:00, 654.47it/s]\n"
     ]
    },
    {
     "name": "stdout",
     "output_type": "stream",
     "text": [
      "Training Loss: 0.04616852931376599\n",
      "Training Accuracy: 0.982296277665996\n",
      "Validation Loss: 0.10745564526319504\n",
      "Validation Accuracy : 0.9574857456140351\n",
      "Epoch 15\n"
     ]
    },
    {
     "name": "stderr",
     "output_type": "stream",
     "text": [
      "100%|███████████████████████████████████████████████████████████████████████████████| 994/994 [00:02<00:00, 366.15it/s]\n",
      "100%|███████████████████████████████████████████████████████████████████████████████| 125/125 [00:00<00:00, 627.03it/s]\n"
     ]
    },
    {
     "name": "stdout",
     "output_type": "stream",
     "text": [
      "Training Loss: 0.03737597401681125\n",
      "Training Accuracy: 0.9859700389839035\n",
      "Validation Loss: 0.04376292610168457\n",
      "Validation Accuracy : 0.98384375\n",
      "Epoch 16\n"
     ]
    },
    {
     "name": "stderr",
     "output_type": "stream",
     "text": [
      "100%|███████████████████████████████████████████████████████████████████████████████| 994/994 [00:02<00:00, 371.69it/s]\n",
      "100%|███████████████████████████████████████████████████████████████████████████████| 125/125 [00:00<00:00, 632.83it/s]\n"
     ]
    },
    {
     "name": "stdout",
     "output_type": "stream",
     "text": [
      "Training Loss: 0.030292847940287883\n",
      "Training Accuracy: 0.9891711204728371\n",
      "Validation Loss: 0.07561223521828651\n",
      "Validation Accuracy : 0.970048245614035\n",
      "Epoch 17\n"
     ]
    },
    {
     "name": "stderr",
     "output_type": "stream",
     "text": [
      "100%|███████████████████████████████████████████████████████████████████████████████| 994/994 [00:02<00:00, 376.61it/s]\n",
      "100%|███████████████████████████████████████████████████████████████████████████████| 125/125 [00:00<00:00, 520.28it/s]\n"
     ]
    },
    {
     "name": "stdout",
     "output_type": "stream",
     "text": [
      "Training Loss: 0.030960122763762022\n",
      "Training Accuracy: 0.9889174107142857\n",
      "Validation Loss: 0.03396593734622002\n",
      "Validation Accuracy : 0.9878755482456141\n",
      "Epoch 18\n"
     ]
    },
    {
     "name": "stderr",
     "output_type": "stream",
     "text": [
      "100%|███████████████████████████████████████████████████████████████████████████████| 994/994 [00:02<00:00, 360.65it/s]\n",
      "100%|███████████████████████████████████████████████████████████████████████████████| 125/125 [00:00<00:00, 584.02it/s]\n"
     ]
    },
    {
     "name": "stdout",
     "output_type": "stream",
     "text": [
      "Training Loss: 0.028352806324015562\n",
      "Training Accuracy: 0.98985726861167\n",
      "Validation Loss: 0.0355987269282341\n",
      "Validation Accuracy : 0.987797149122807\n",
      "Epoch 19\n"
     ]
    },
    {
     "name": "stderr",
     "output_type": "stream",
     "text": [
      "100%|███████████████████████████████████████████████████████████████████████████████| 994/994 [00:02<00:00, 357.54it/s]\n",
      "100%|███████████████████████████████████████████████████████████████████████████████| 125/125 [00:00<00:00, 580.25it/s]\n"
     ]
    },
    {
     "name": "stdout",
     "output_type": "stream",
     "text": [
      "Training Loss: 0.026501556742239286\n",
      "Training Accuracy: 0.9906712147887324\n",
      "Validation Loss: 0.025539326705038546\n",
      "Validation Accuracy : 0.991375\n",
      "Epoch 20\n"
     ]
    },
    {
     "name": "stderr",
     "output_type": "stream",
     "text": [
      "100%|███████████████████████████████████████████████████████████████████████████████| 994/994 [00:02<00:00, 348.23it/s]\n",
      "100%|███████████████████████████████████████████████████████████████████████████████| 125/125 [00:00<00:00, 588.88it/s]"
     ]
    },
    {
     "name": "stdout",
     "output_type": "stream",
     "text": [
      "Training Loss: 0.027002797202161238\n",
      "Training Accuracy: 0.9900642920020121\n",
      "Validation Loss: 0.020722067594528198\n",
      "Validation Accuracy : 0.993484649122807\n"
     ]
    },
    {
     "name": "stderr",
     "output_type": "stream",
     "text": [
      "\n"
     ]
    }
   ],
   "source": [
    "train_losses, train_accs = [], []\n",
    "val_losses, val_accs = [], []\n",
    "for epoch in range(20):\n",
    "\tprint(f'Epoch {epoch+1}')\n",
    "\tt_loss, t_accuracy = train(train_dl)\n",
    "\tv_loss, v_accuracy = test(val_dl)\n",
    "\ttrain_losses.append(t_loss)\n",
    "\ttrain_accs.append(t_accuracy)\n",
    "\tval_losses.append(v_loss)\n",
    "\tval_accs.append(v_accuracy)\n",
    "\tprint(f'Training Loss: {t_loss}')\n",
    "\tprint(f'Training Accuracy: {t_accuracy}')\n",
    "\tprint(f'Validation Loss: {v_loss}')\n",
    "\tprint(f'Validation Accuracy : {v_accuracy}')"
   ]
  },
  {
   "cell_type": "code",
   "execution_count": 10,
   "id": "4e7d9cd6-e420-49ea-be40-40eb8e926080",
   "metadata": {},
   "outputs": [
    {
     "data": {
      "image/png": "[encoded data removed]",
      "text/plain": [
       "<Figure size 1200x400 with 2 Axes>"
      ]
     },
     "metadata": {},
     "output_type": "display_data"
    }
   ],
   "source": [
    "plt.figure(figsize=(12, 4))\n",
    "\n",
    "plt.subplot(1, 2, 1)\n",
    "plt.plot(train_losses, label=\"Train Loss\")\n",
    "plt.plot(val_losses, label=\"Validation Loss\")\n",
    "plt.legend()\n",
    "plt.xlabel(\"Epochs\")\n",
    "plt.ylabel(\"Loss\")\n",
    "plt.title(\"Training and Validation Loss\")\n",
    "\n",
    "plt.subplot(1, 2, 2)\n",
    "plt.plot(train_accs, label=\"Train Accuracy\")\n",
    "plt.plot(val_accs, label=\"Validation Accuracy\")\n",
    "plt.legend()\n",
    "plt.xlabel(\"Epochs\")\n",
    "plt.ylabel(\"Accuracy\")\n",
    "plt.title(\"Training and Validation Accuracy\")\n",
    "\n",
    "plt.show()"
   ]
  },
  {
   "cell_type": "code",
   "execution_count": 11,
   "id": "90876dec-8215-4cae-bed9-85dcbef7a86d",
   "metadata": {},
   "outputs": [
    {
     "name": "stderr",
     "output_type": "stream",
     "text": [
      "100%|███████████████████████████████████████████████████████████████████████████████| 125/125 [00:00<00:00, 713.69it/s]"
     ]
    },
    {
     "name": "stdout",
     "output_type": "stream",
     "text": [
      "Loss: 0.019437514048069714, Accuracy: 0.99359375\n"
     ]
    },
    {
     "name": "stderr",
     "output_type": "stream",
     "text": [
      "\n"
     ]
    }
   ],
   "source": [
    "loss, accuracy = test(test_dl)\n",
    "print(f\"Loss: {loss}, Accuracy: {accuracy}\")"
   ]
  },
  {
   "cell_type": "code",
   "execution_count": 12,
   "id": "1c72820f-26ab-4106-ae18-428f340a2eef",
   "metadata": {},
   "outputs": [],
   "source": [
    "def get_accuracy_by_minute():\n",
    "    acc_dic = {}\n",
    "    count_dic = {}\n",
    "    for batch, targets in tqdm(test_dl):\n",
    "        batch = batch.to(device)\n",
    "        targets = targets.to(device)\n",
    "        with torch.no_grad():\n",
    "            predictions = net(batch)\n",
    "        predictions = torch.sigmoid(predictions)\n",
    "        for i in range(len(batch)):\n",
    "            tstep = str(int(batch[i][-1] * 30))\n",
    "            if tstep in acc_dic:\n",
    "                if predictions[i].round() == targets[i]:\n",
    "                    acc_dic[tstep] += 1\n",
    "                count_dic[tstep] += 1\n",
    "            else:\n",
    "                acc_dic[tstep] = 0\n",
    "                if predictions[i].round() == targets[i]:\n",
    "                    acc_dic[tstep] = 1\n",
    "                count_dic[tstep] = 1\n",
    "    return acc_dic, count_dic"
   ]
  },
  {
   "cell_type": "code",
   "execution_count": 13,
   "id": "a3b0dafa-2401-4233-90d4-185291cbef5b",
   "metadata": {},
   "outputs": [
    {
     "name": "stderr",
     "output_type": "stream",
     "text": [
      "100%|████████████████████████████████████████████████████████████████████████████████| 125/125 [00:03<00:00, 32.58it/s]\n"
     ]
    }
   ],
   "source": [
    "acc_dic, count_dic = get_accuracy_by_minute()"
   ]
  },
  {
   "cell_type": "code",
   "execution_count": 14,
   "id": "cf88cb8d-7954-44da-aca3-68ebefd42d3f",
   "metadata": {},
   "outputs": [
    {
     "data": {
      "text/plain": [
       "{'11': 1045,\n",
       " '32': 352,\n",
       " '7': 1042,\n",
       " '13': 1029,\n",
       " '27': 745,\n",
       " '26': 797,\n",
       " '18': 958,\n",
       " '12': 992,\n",
       " '24': 894,\n",
       " '25': 828,\n",
       " '21': 957,\n",
       " '17': 991,\n",
       " '10': 1032,\n",
       " '0': 1048,\n",
       " '31': 461,\n",
       " '19': 947,\n",
       " '28': 628,\n",
       " '3': 1013,\n",
       " '6': 1076,\n",
       " '2': 1079,\n",
       " '15': 1048,\n",
       " '14': 1068,\n",
       " '16': 1072,\n",
       " '22': 893,\n",
       " '23': 918,\n",
       " '20': 937,\n",
       " '29': 563,\n",
       " '30': 538,\n",
       " '8': 1050,\n",
       " '34': 258,\n",
       " '9': 1020,\n",
       " '36': 163,\n",
       " '4': 1051,\n",
       " '1': 1011,\n",
       " '5': 1031,\n",
       " '37': 141,\n",
       " '35': 201,\n",
       " '38': 104,\n",
       " '42': 43,\n",
       " '33': 303,\n",
       " '41': 47,\n",
       " '39': 81,\n",
       " '44': 26,\n",
       " '45': 11,\n",
       " '46': 13,\n",
       " '43': 21,\n",
       " '40': 49,\n",
       " '50': 3,\n",
       " '49': 2,\n",
       " '47': 6,\n",
       " '54': 3,\n",
       " '48': 4,\n",
       " '51': 2,\n",
       " '52': 2}"
      ]
     },
     "execution_count": 14,
     "metadata": {},
     "output_type": "execute_result"
    }
   ],
   "source": [
    "acc_dic"
   ]
  },
  {
   "cell_type": "code",
   "execution_count": 15,
   "id": "f4767bcf-b6bf-4306-ad8d-983942bce57b",
   "metadata": {},
   "outputs": [],
   "source": [
    "for n in acc_dic.keys():\n",
    "    acc_dic[n] /= count_dic[n]"
   ]
  },
  {
   "cell_type": "code",
   "execution_count": 16,
   "id": "f2305d70-8f56-4086-b356-3218400faadc",
   "metadata": {},
   "outputs": [],
   "source": [
    "idx = 0\n",
    "acc_by_time = []\n",
    "while str(idx) in acc_dic:\n",
    "    n = acc_dic[str(idx)]\n",
    "    acc_by_time.append(n)\n",
    "    idx += 1"
   ]
  },
  {
   "cell_type": "code",
   "execution_count": 17,
   "id": "cd43fba2-e1b8-47d8-85d4-4151daf81504",
   "metadata": {},
   "outputs": [
    {
     "data": {
      "text/plain": [
       "0.9968085106382979"
      ]
     },
     "execution_count": 17,
     "metadata": {},
     "output_type": "execute_result"
    }
   ],
   "source": [
    "acc_by_time[20]"
   ]
  },
  {
   "cell_type": "code",
   "execution_count": 18,
   "id": "848f0e8b-f531-49aa-8986-0cb604e76616",
   "metadata": {},
   "outputs": [
    {
     "data": {
      "text/plain": [
       "[0.9703703703703703,\n",
       " 0.9711815561959655,\n",
       " 0.974706413730804,\n",
       " 0.9759152215799615,\n",
       " 0.9896421845574388,\n",
       " 0.9932562620423893,\n",
       " 0.9935364727608494,\n",
       " 0.9886148007590133,\n",
       " 0.9971509971509972,\n",
       " 0.9951219512195122,\n",
       " 0.9961389961389961,\n",
       " 1.0,\n",
       " 0.9979879275653923,\n",
       " 1.0,\n",
       " 0.9981308411214953,\n",
       " 0.9961977186311787,\n",
       " 0.9981378026070763,\n",
       " 0.9949799196787149,\n",
       " 1.0,\n",
       " 0.9989451476793249,\n",
       " 0.9968085106382979,\n",
       " 0.9989561586638831,\n",
       " 0.9944320712694877,\n",
       " 0.998911860718172,\n",
       " 0.9977678571428571,\n",
       " 0.9987937273823885,\n",
       " 0.9937655860349127,\n",
       " 0.9973226238286479,\n",
       " 1.0,\n",
       " 1.0,\n",
       " 0.9962962962962963,\n",
       " 1.0,\n",
       " 0.9971671388101983,\n",
       " 1.0,\n",
       " 0.9961389961389961,\n",
       " 1.0,\n",
       " 1.0,\n",
       " 0.9929577464788732,\n",
       " 1.0,\n",
       " 1.0,\n",
       " 1.0,\n",
       " 1.0,\n",
       " 1.0,\n",
       " 1.0,\n",
       " 1.0,\n",
       " 1.0,\n",
       " 1.0,\n",
       " 1.0,\n",
       " 1.0,\n",
       " 1.0,\n",
       " 1.0,\n",
       " 1.0,\n",
       " 1.0]"
      ]
     },
     "execution_count": 18,
     "metadata": {},
     "output_type": "execute_result"
    }
   ],
   "source": [
    "acc_by_time"
   ]
  },
  {
   "cell_type": "code",
   "execution_count": 19,
   "id": "88fc6b18-656c-420a-8dcc-cb346417455d",
   "metadata": {},
   "outputs": [
    {
     "data": {
      "image/png": "[encoded data removed]",
      "text/plain": [
       "<Figure size 800x400 with 1 Axes>"
      ]
     },
     "metadata": {},
     "output_type": "display_data"
    }
   ],
   "source": [
    "plt.figure(figsize=(8, 4))\n",
    "plt.title('Accuracy over time')\n",
    "plt.plot(acc_by_time)\n",
    "plt.xlabel('Minutes')\n",
    "plt.ylabel('Accuracy')\n",
    "plt.show()"
   ]
  },
  {
   "cell_type": "code",
   "execution_count": 20,
   "id": "8da57590-35d4-43d2-bd7e-0a8a3edd8ad2",
   "metadata": {},
   "outputs": [],
   "source": [
    "inputs, targets = next(iter(train_dl))"
   ]
  },
  {
   "cell_type": "code",
   "execution_count": 21,
   "id": "38bc5754-70ea-4eff-8440-61baf6eaeb05",
   "metadata": {},
   "outputs": [
    {
     "data": {
      "text/plain": [
       "256"
      ]
     },
     "execution_count": 21,
     "metadata": {},
     "output_type": "execute_result"
    }
   ],
   "source": [
    "len(inputs)"
   ]
  },
  {
   "cell_type": "code",
   "execution_count": 22,
   "id": "c827815c-6eb1-4632-bd20-4a75a62fca9c",
   "metadata": {},
   "outputs": [
    {
     "data": {
      "text/plain": [
       "256"
      ]
     },
     "execution_count": 22,
     "metadata": {},
     "output_type": "execute_result"
    }
   ],
   "source": [
    "len(targets)"
   ]
  },
  {
   "cell_type": "code",
   "execution_count": 23,
   "id": "f4d7695d-724f-46e5-b5fd-4efd89e4f176",
   "metadata": {},
   "outputs": [],
   "source": [
    "net = net.cpu()"
   ]
  },
  {
   "cell_type": "code",
   "execution_count": 24,
   "id": "d6ecc3cc-3c47-479b-b42b-bf4a227f68f9",
   "metadata": {},
   "outputs": [],
   "source": [
    "torch.save(net, 'net.pth')"
   ]
  }
 ],
 "metadata": {
  "kernelspec": {
   "display_name": "Python 3 (ipykernel)",
   "language": "python",
   "name": "python3"
  },
  "language_info": {
   "codemirror_mode": {
    "name": "ipython",
    "version": 3
   },
   "file_extension": ".py",
   "mimetype": "text/x-python",
   "name": "python",
   "nbconvert_exporter": "python",
   "pygments_lexer": "ipython3",
   "version": "3.12.2"
  }
 },
 "nbformat": 4,
 "nbformat_minor": 5
}
