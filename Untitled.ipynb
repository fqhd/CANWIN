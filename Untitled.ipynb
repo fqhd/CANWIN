{
 "cells": [
  {
   "cell_type": "code",
   "execution_count": 1,
   "id": "c5e62dad-c4b8-4fe8-a827-b37d9fb3e808",
   "metadata": {},
   "outputs": [],
   "source": [
    "import numpy as np\n",
    "import torch.utils.data as dutils\n",
    "import torch\n",
    "from torch import nn\n",
    "from tqdm import tqdm\n",
    "import matplotlib.pyplot as plt\n",
    "import random"
   ]
  },
  {
   "cell_type": "code",
   "execution_count": 2,
   "id": "de2f796e-c6c4-486e-b306-9773b1ac2254",
   "metadata": {},
   "outputs": [
    {
     "name": "stdout",
     "output_type": "stream",
     "text": [
      "Loading the dataset into memory\n",
      "Finished loading the dataset, found 318011 items\n",
      "Using 254408 items for training\n",
      "Using 31801 items for validation\n",
      "Using 31802 items for testing\n"
     ]
    }
   ],
   "source": [
    "TRAIN_SPLIT = 0.8\n",
    "\n",
    "print('Loading the dataset into memory')\n",
    "dataset = np.load('dataset.npy')\n",
    "print(f'Finished loading the dataset, found {len(dataset)} items')\n",
    "\n",
    "class Dataset(dutils.Dataset):\n",
    "    def __init__(self, subset='training'):\n",
    "        super().__init__()\n",
    "    \n",
    "        self.subset = subset\n",
    "        \n",
    "        val_split = (1 - TRAIN_SPLIT) / 2\n",
    "    \n",
    "        self.num_train = int(len(dataset) * TRAIN_SPLIT)\n",
    "        self.num_val = int(len(dataset) * val_split)\n",
    "    \n",
    "        if subset == 'training':\n",
    "            self.num_items = self.num_train\n",
    "        elif subset == 'validation':\n",
    "            self.num_items = self.num_val\n",
    "        elif subset == 'testing':\n",
    "            self.num_items = len(dataset) - self.num_train - self.num_val\n",
    "        else:\n",
    "            self.num_items = len(dataset)\n",
    "            print('Warning: Unknown subset, using entire dataset')\n",
    "    \n",
    "        print(f'Using {self.num_items} items for {subset}')\n",
    "\t\n",
    "    def __len__(self):\n",
    "        return self.num_items\n",
    "    \n",
    "    def __getitem__(self, idx):\n",
    "        offset = 0\n",
    "        if self.subset == 'validation':\n",
    "            offset += self.num_train\n",
    "        if self.subset == 'testing':\n",
    "            offset += self.num_train + self.num_val\n",
    "        example = dataset[offset + idx]\n",
    "        inputs = example[:-1]\n",
    "        label = example[-1]\n",
    "        return inputs, label\n",
    "    \n",
    "train_ds = Dataset(subset='training')\n",
    "val_ds = Dataset(subset='validation')\n",
    "test_ds = Dataset(subset='testing')\n",
    "\n",
    "train_dl = dutils.DataLoader(train_ds, batch_size=256, shuffle=True)\n",
    "val_dl = dutils.DataLoader(val_ds, batch_size=256, shuffle=True)\n",
    "test_dl = dutils.DataLoader(test_ds, batch_size=256, shuffle=True)"
   ]
  },
  {
   "cell_type": "code",
   "execution_count": 3,
   "id": "3a37017d-899e-478b-92bd-5c7635d2d1fe",
   "metadata": {},
   "outputs": [
    {
     "data": {
      "text/plain": [
       "334"
      ]
     },
     "execution_count": 3,
     "metadata": {},
     "output_type": "execute_result"
    }
   ],
   "source": [
    "len(dataset[0])"
   ]
  },
  {
   "cell_type": "code",
   "execution_count": 4,
   "id": "f504c5c4-155e-4c2b-adb2-820f9ed83b24",
   "metadata": {},
   "outputs": [],
   "source": [
    "class TinyNet(nn.Module):\n",
    "\tdef __init__(self):\n",
    "\t\tsuper().__init__()\n",
    "\t\tself.stack = nn.Sequential(\n",
    "\t\t\tnn.Linear(333, 128),\n",
    "\t\t\tnn.ReLU(True),\n",
    "\n",
    "\t\t\tnn.Linear(128, 64),\n",
    "\t\t\tnn.ReLU(True),\n",
    "\n",
    "\t\t\tnn.Linear(64, 1)\n",
    "\t\t)\n",
    "\n",
    "\tdef forward(self, x):\n",
    "\t\treturn self.stack(x)"
   ]
  },
  {
   "cell_type": "code",
   "execution_count": 5,
   "id": "2ee9eb6f-35eb-4873-854e-9937ad4ea534",
   "metadata": {},
   "outputs": [
    {
     "name": "stdout",
     "output_type": "stream",
     "text": [
      "Using cuda\n"
     ]
    }
   ],
   "source": [
    "device = (\n",
    "\t'cuda' if torch.cuda.is_available() else\n",
    "\t'mps' if torch.backends.mps.is_available() else\n",
    "\t'cpu'\n",
    ")\n",
    "\n",
    "print(f'Using {device}')"
   ]
  },
  {
   "cell_type": "code",
   "execution_count": 6,
   "id": "70779a94-25f6-4602-a1bc-1a8ff79f7012",
   "metadata": {},
   "outputs": [],
   "source": [
    "net = TinyNet()\n",
    "net = net.to(device)\n",
    "\n",
    "optim = torch.optim.Adam(net.parameters(), lr=1e-3)\n",
    "loss_fn = torch.nn.BCEWithLogitsLoss()"
   ]
  },
  {
   "cell_type": "code",
   "execution_count": 7,
   "id": "02ddfa59-a859-475f-ad1f-d9f41748c882",
   "metadata": {},
   "outputs": [],
   "source": [
    "def train(dl):\n",
    "\tavg_loss = 0\n",
    "\tavg_acc = 0\n",
    "\tfor inputs, targets in tqdm(dl):\n",
    "\t\tinputs = inputs.to(device)\n",
    "\t\ttargets = targets.to(device)\n",
    "\n",
    "\t\tpreds = net(inputs)\n",
    "\t\tpreds = preds.view(-1)\n",
    "\t\tloss = loss_fn(preds, targets)\n",
    "\n",
    "\t\tnet.zero_grad()\n",
    "\t\tloss.backward()\n",
    "\t\toptim.step()\n",
    "\n",
    "\t\tavg_loss += loss.item()\n",
    "\n",
    "\t\tpreds = torch.sigmoid(preds)\n",
    "\t\tacc = (preds.round() == targets).float().sum().item() / len(targets)\n",
    "\t\tavg_acc += acc\n",
    "\tavg_loss /= len(dl)\n",
    "\tavg_acc /= len(dl)\n",
    "\n",
    "\treturn avg_loss, avg_acc"
   ]
  },
  {
   "cell_type": "code",
   "execution_count": 8,
   "id": "1c1e435b-80dc-4706-88ed-e54de6ae8a54",
   "metadata": {},
   "outputs": [],
   "source": [
    "def test(dl):\n",
    "\tavg_loss = 0\n",
    "\tavg_acc = 0\n",
    "\tfor inputs, targets in tqdm(dl):\n",
    "\t\tinputs = inputs.to(device)\n",
    "\t\ttargets = targets.to(device)\n",
    "\n",
    "\t\twith torch.no_grad():\n",
    "\t\t\tpreds = net(inputs)\n",
    "\t\tpreds = preds.view(-1)\n",
    "\t\tloss = loss_fn(preds, targets)\n",
    "\n",
    "\t\tavg_loss += loss.item()\n",
    "\n",
    "\t\tpreds = torch.sigmoid(preds)\n",
    "\t\tacc = (preds.round() == targets).float().sum().item() / len(targets)\n",
    "\t\tavg_acc += acc\n",
    "\tavg_loss /= len(dl)\n",
    "\tavg_acc /= len(dl)\n",
    "\n",
    "\treturn avg_loss, avg_acc"
   ]
  },
  {
   "cell_type": "code",
   "execution_count": 9,
   "id": "437bfc44-6f49-455f-9044-330e75a24a51",
   "metadata": {},
   "outputs": [
    {
     "name": "stdout",
     "output_type": "stream",
     "text": [
      "Epoch 1\n"
     ]
    },
    {
     "name": "stderr",
     "output_type": "stream",
     "text": [
      "100%|███████████████████████████████████████████████████████████████████████████████| 994/994 [00:03<00:00, 265.11it/s]\n",
      "100%|███████████████████████████████████████████████████████████████████████████████| 125/125 [00:00<00:00, 464.40it/s]\n"
     ]
    },
    {
     "name": "stdout",
     "output_type": "stream",
     "text": [
      "Training Loss: 0.5286415561404026\n",
      "Training Accuracy: 0.7117784834004024\n",
      "Validation Loss: 0.5255674118995667\n",
      "Validation Accuracy : 0.7131606359649123\n",
      "Epoch 2\n"
     ]
    },
    {
     "name": "stderr",
     "output_type": "stream",
     "text": [
      "100%|███████████████████████████████████████████████████████████████████████████████| 994/994 [00:03<00:00, 320.95it/s]\n",
      "100%|███████████████████████████████████████████████████████████████████████████████| 125/125 [00:00<00:00, 573.04it/s]\n"
     ]
    },
    {
     "name": "stdout",
     "output_type": "stream",
     "text": [
      "Training Loss: 0.48921118139980785\n",
      "Training Accuracy: 0.744908670774648\n",
      "Validation Loss: 0.46512992334365844\n",
      "Validation Accuracy : 0.7608475877192982\n",
      "Epoch 3\n"
     ]
    },
    {
     "name": "stderr",
     "output_type": "stream",
     "text": [
      "100%|███████████████████████████████████████████████████████████████████████████████| 994/994 [00:03<00:00, 308.49it/s]\n",
      "100%|███████████████████████████████████████████████████████████████████████████████| 125/125 [00:00<00:00, 561.46it/s]\n"
     ]
    },
    {
     "name": "stdout",
     "output_type": "stream",
     "text": [
      "Training Loss: 0.404432121506879\n",
      "Training Accuracy: 0.8049166876257545\n",
      "Validation Loss: 0.42386761474609375\n",
      "Validation Accuracy : 0.789548793859649\n",
      "Epoch 4\n"
     ]
    },
    {
     "name": "stderr",
     "output_type": "stream",
     "text": [
      "100%|███████████████████████████████████████████████████████████████████████████████| 994/994 [00:03<00:00, 325.80it/s]\n",
      "100%|███████████████████████████████████████████████████████████████████████████████| 125/125 [00:00<00:00, 506.00it/s]\n"
     ]
    },
    {
     "name": "stdout",
     "output_type": "stream",
     "text": [
      "Training Loss: 0.3098178873779308\n",
      "Training Accuracy: 0.8593963782696177\n",
      "Validation Loss: 0.2741515386104584\n",
      "Validation Accuracy : 0.8792357456140351\n",
      "Epoch 5\n"
     ]
    },
    {
     "name": "stderr",
     "output_type": "stream",
     "text": [
      "100%|███████████████████████████████████████████████████████████████████████████████| 994/994 [00:03<00:00, 329.52it/s]\n",
      "100%|███████████████████████████████████████████████████████████████████████████████| 125/125 [00:00<00:00, 484.43it/s]"
     ]
    },
    {
     "name": "stdout",
     "output_type": "stream",
     "text": [
      "Training Loss: 0.23968823021746258\n",
      "Training Accuracy: 0.8954126320422535\n",
      "Validation Loss: 0.21573231434822082\n",
      "Validation Accuracy : 0.9068305921052631\n"
     ]
    },
    {
     "name": "stderr",
     "output_type": "stream",
     "text": [
      "\n"
     ]
    }
   ],
   "source": [
    "train_losses, train_accs = [], []\n",
    "val_losses, val_accs = [], []\n",
    "for epoch in range(5):\n",
    "\tprint(f'Epoch {epoch+1}')\n",
    "\tt_loss, t_accuracy = train(train_dl)\n",
    "\tv_loss, v_accuracy = test(val_dl)\n",
    "\ttrain_losses.append(t_loss)\n",
    "\ttrain_accs.append(t_accuracy)\n",
    "\tval_losses.append(v_loss)\n",
    "\tval_accs.append(v_accuracy)\n",
    "\tprint(f'Training Loss: {t_loss}')\n",
    "\tprint(f'Training Accuracy: {t_accuracy}')\n",
    "\tprint(f'Validation Loss: {v_loss}')\n",
    "\tprint(f'Validation Accuracy : {v_accuracy}')"
   ]
  },
  {
   "cell_type": "code",
   "execution_count": 10,
   "id": "4e7d9cd6-e420-49ea-be40-40eb8e926080",
   "metadata": {},
   "outputs": [
    {
     "data": {
      "image/png": "[encoded data removed]",
      "text/plain": [
       "<Figure size 1200x400 with 2 Axes>"
      ]
     },
     "metadata": {},
     "output_type": "display_data"
    }
   ],
   "source": [
    "plt.figure(figsize=(12, 4))\n",
    "\n",
    "plt.subplot(1, 2, 1)\n",
    "plt.plot(train_losses, label=\"Train Loss\")\n",
    "plt.plot(val_losses, label=\"Validation Loss\")\n",
    "plt.legend()\n",
    "plt.xlabel(\"Epochs\")\n",
    "plt.ylabel(\"Loss\")\n",
    "plt.title(\"Training and Validation Loss\")\n",
    "\n",
    "plt.subplot(1, 2, 2)\n",
    "plt.plot(train_accs, label=\"Train Accuracy\")\n",
    "plt.plot(val_accs, label=\"Validation Accuracy\")\n",
    "plt.legend()\n",
    "plt.xlabel(\"Epochs\")\n",
    "plt.ylabel(\"Accuracy\")\n",
    "plt.title(\"Training and Validation Accuracy\")\n",
    "\n",
    "plt.show()"
   ]
  },
  {
   "cell_type": "code",
   "execution_count": 11,
   "id": "90876dec-8215-4cae-bed9-85dcbef7a86d",
   "metadata": {},
   "outputs": [
    {
     "name": "stderr",
     "output_type": "stream",
     "text": [
      "100%|███████████████████████████████████████████████████████████████████████████████| 125/125 [00:00<00:00, 621.69it/s]\n"
     ]
    },
    {
     "name": "stdout",
     "output_type": "stream",
     "text": [
      "Loss: 0.2169275654554367, Accuracy: 0.9062920258620689\n"
     ]
    }
   ],
   "source": [
    "loss, accuracy = test(test_dl)\n",
    "print(f\"Loss: {loss}, Accuracy: {accuracy}\")"
   ]
  },
  {
   "cell_type": "code",
   "execution_count": 12,
   "id": "1c72820f-26ab-4106-ae18-428f340a2eef",
   "metadata": {},
   "outputs": [],
   "source": [
    "def get_accuracy_by_minute():\n",
    "    acc_dic = {}\n",
    "    count_dic = {}\n",
    "    for batch, targets in tqdm(test_dl):\n",
    "        batch = batch.to(device)\n",
    "        targets = targets.to(device)\n",
    "        with torch.no_grad():\n",
    "            predictions = net(batch)\n",
    "        predictions = torch.sigmoid(predictions)\n",
    "        for i in range(len(batch)):\n",
    "            tstep = str(int(batch[i][-1] * 30))\n",
    "            if tstep in acc_dic:\n",
    "                if predictions[i].round() == targets[i]:\n",
    "                    acc_dic[tstep] += 1\n",
    "                count_dic[tstep] += 1\n",
    "            else:\n",
    "                acc_dic[tstep] = 0\n",
    "                if predictions[i].round() == targets[i]:\n",
    "                    acc_dic[tstep] = 1\n",
    "                count_dic[tstep] = 1\n",
    "    return acc_dic, count_dic"
   ]
  },
  {
   "cell_type": "code",
   "execution_count": 13,
   "id": "a3b0dafa-2401-4233-90d4-185291cbef5b",
   "metadata": {},
   "outputs": [
    {
     "name": "stderr",
     "output_type": "stream",
     "text": [
      "100%|████████████████████████████████████████████████████████████████████████████████| 125/125 [00:05<00:00, 24.82it/s]\n"
     ]
    }
   ],
   "source": [
    "acc_dic, count_dic = get_accuracy_by_minute()"
   ]
  },
  {
   "cell_type": "code",
   "execution_count": 14,
   "id": "cf88cb8d-7954-44da-aca3-68ebefd42d3f",
   "metadata": {},
   "outputs": [
    {
     "data": {
      "text/plain": [
       "{'17': 938,\n",
       " '12': 883,\n",
       " '30': 525,\n",
       " '22': 861,\n",
       " '20': 901,\n",
       " '21': 909,\n",
       " '23': 889,\n",
       " '18': 897,\n",
       " '19': 897,\n",
       " '15': 980,\n",
       " '9': 910,\n",
       " '14': 994,\n",
       " '2': 860,\n",
       " '33': 298,\n",
       " '24': 866,\n",
       " '35': 197,\n",
       " '28': 610,\n",
       " '10': 904,\n",
       " '27': 726,\n",
       " '16': 1008,\n",
       " '36': 161,\n",
       " '26': 785,\n",
       " '11': 935,\n",
       " '34': 255,\n",
       " '29': 547,\n",
       " '1': 840,\n",
       " '6': 908,\n",
       " '4': 873,\n",
       " '3': 838,\n",
       " '40': 48,\n",
       " '32': 341,\n",
       " '8': 918,\n",
       " '7': 914,\n",
       " '13': 924,\n",
       " '31': 450,\n",
       " '0': 860,\n",
       " '25': 802,\n",
       " '5': 861,\n",
       " '37': 140,\n",
       " '39': 78,\n",
       " '49': 2,\n",
       " '42': 43,\n",
       " '45': 11,\n",
       " '41': 47,\n",
       " '38': 104,\n",
       " '47': 6,\n",
       " '54': 3,\n",
       " '43': 21,\n",
       " '46': 13,\n",
       " '44': 25,\n",
       " '51': 2,\n",
       " '50': 3,\n",
       " '48': 4,\n",
       " '52': 2}"
      ]
     },
     "execution_count": 14,
     "metadata": {},
     "output_type": "execute_result"
    }
   ],
   "source": [
    "acc_dic"
   ]
  },
  {
   "cell_type": "code",
   "execution_count": 15,
   "id": "f4767bcf-b6bf-4306-ad8d-983942bce57b",
   "metadata": {},
   "outputs": [],
   "source": [
    "for n in acc_dic.keys():\n",
    "    acc_dic[n] /= count_dic[n]"
   ]
  },
  {
   "cell_type": "code",
   "execution_count": 16,
   "id": "f2305d70-8f56-4086-b356-3218400faadc",
   "metadata": {},
   "outputs": [],
   "source": [
    "idx = 0\n",
    "acc_by_time = []\n",
    "while str(idx) in acc_dic:\n",
    "    n = acc_dic[str(idx)]\n",
    "    acc_by_time.append(n)\n",
    "    idx += 1"
   ]
  },
  {
   "cell_type": "code",
   "execution_count": 20,
   "id": "cd43fba2-e1b8-47d8-85d4-4151daf81504",
   "metadata": {},
   "outputs": [
    {
     "data": {
      "text/plain": [
       "0.9585106382978723"
      ]
     },
     "execution_count": 20,
     "metadata": {},
     "output_type": "execute_result"
    }
   ],
   "source": [
    "acc_by_time[20]"
   ]
  },
  {
   "cell_type": "code",
   "execution_count": 17,
   "id": "848f0e8b-f531-49aa-8986-0cb604e76616",
   "metadata": {},
   "outputs": [
    {
     "data": {
      "text/plain": [
       "[0.7962962962962963,\n",
       " 0.8069164265129684,\n",
       " 0.7768744354110207,\n",
       " 0.8073217726396917,\n",
       " 0.8220338983050848,\n",
       " 0.8294797687861272,\n",
       " 0.8384118190212373,\n",
       " 0.8671726755218216,\n",
       " 0.8717948717948718,\n",
       " 0.8878048780487805,\n",
       " 0.8725868725868726,\n",
       " 0.8947368421052632,\n",
       " 0.8883299798792756,\n",
       " 0.8979591836734694,\n",
       " 0.9289719626168225,\n",
       " 0.9315589353612167,\n",
       " 0.9385474860335196,\n",
       " 0.9417670682730924,\n",
       " 0.9363256784968684,\n",
       " 0.9462025316455697,\n",
       " 0.9585106382978723,\n",
       " 0.9488517745302714,\n",
       " 0.9587973273942093,\n",
       " 0.9673558215451578,\n",
       " 0.9665178571428571,\n",
       " 0.9674306393244874,\n",
       " 0.9788029925187033,\n",
       " 0.9718875502008032,\n",
       " 0.9713375796178344,\n",
       " 0.9715808170515098,\n",
       " 0.9722222222222222,\n",
       " 0.9761388286334056,\n",
       " 0.9660056657223796,\n",
       " 0.9834983498349835,\n",
       " 0.9845559845559846,\n",
       " 0.9800995024875622,\n",
       " 0.9877300613496932,\n",
       " 0.9859154929577465,\n",
       " 1.0,\n",
       " 0.9629629629629629,\n",
       " 0.9795918367346939,\n",
       " 1.0,\n",
       " 1.0,\n",
       " 1.0,\n",
       " 0.9615384615384616,\n",
       " 1.0,\n",
       " 1.0,\n",
       " 1.0,\n",
       " 1.0,\n",
       " 1.0,\n",
       " 1.0,\n",
       " 1.0,\n",
       " 1.0]"
      ]
     },
     "execution_count": 17,
     "metadata": {},
     "output_type": "execute_result"
    }
   ],
   "source": [
    "acc_by_time"
   ]
  },
  {
   "cell_type": "code",
   "execution_count": 18,
   "id": "88fc6b18-656c-420a-8dcc-cb346417455d",
   "metadata": {},
   "outputs": [
    {
     "data": {
      "image/png": "[encoded data removed]",
      "text/plain": [
       "<Figure size 800x400 with 1 Axes>"
      ]
     },
     "metadata": {},
     "output_type": "display_data"
    }
   ],
   "source": [
    "plt.figure(figsize=(8, 4))\n",
    "plt.title('Accuracy over time')\n",
    "plt.plot(acc_by_time)\n",
    "plt.xlabel('Minutes')\n",
    "plt.ylabel('Accuracy')\n",
    "plt.show()"
   ]
  },
  {
   "cell_type": "code",
   "execution_count": 19,
   "id": "8da57590-35d4-43d2-bd7e-0a8a3edd8ad2",
   "metadata": {},
   "outputs": [],
   "source": [
    "inputs, targets = next(iter(train_dl))"
   ]
  },
  {
   "cell_type": "code",
   "execution_count": 29,
   "id": "38bc5754-70ea-4eff-8440-61baf6eaeb05",
   "metadata": {},
   "outputs": [
    {
     "data": {
      "text/plain": [
       "256"
      ]
     },
     "execution_count": 29,
     "metadata": {},
     "output_type": "execute_result"
    }
   ],
   "source": [
    "len(inputs)"
   ]
  },
  {
   "cell_type": "code",
   "execution_count": 30,
   "id": "c827815c-6eb1-4632-bd20-4a75a62fca9c",
   "metadata": {},
   "outputs": [
    {
     "data": {
      "text/plain": [
       "256"
      ]
     },
     "execution_count": 30,
     "metadata": {},
     "output_type": "execute_result"
    }
   ],
   "source": [
    "len(targets)"
   ]
  }
 ],
 "metadata": {
  "kernelspec": {
   "display_name": "Python 3 (ipykernel)",
   "language": "python",
   "name": "python3"
  },
  "language_info": {
   "codemirror_mode": {
    "name": "ipython",
    "version": 3
   },
   "file_extension": ".py",
   "mimetype": "text/x-python",
   "name": "python",
   "nbconvert_exporter": "python",
   "pygments_lexer": "ipython3",
   "version": "3.12.2"
  }
 },
 "nbformat": 4,
 "nbformat_minor": 5
}
