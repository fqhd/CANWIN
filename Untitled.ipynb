{
 "cells": [
  {
   "cell_type": "code",
   "execution_count": 1,
   "id": "c5e62dad-c4b8-4fe8-a827-b37d9fb3e808",
   "metadata": {},
   "outputs": [],
   "source": [
    "import numpy as np\n",
    "import torch.utils.data as dutils\n",
    "import torch\n",
    "from torch import nn\n",
    "from tqdm import tqdm\n",
    "import matplotlib.pyplot as plt\n",
    "import random"
   ]
  },
  {
   "cell_type": "code",
   "execution_count": 2,
   "id": "de2f796e-c6c4-486e-b306-9773b1ac2254",
   "metadata": {},
   "outputs": [
    {
     "name": "stdout",
     "output_type": "stream",
     "text": [
      "Loading the dataset into memory\n",
      "Finished loading the dataset, found 318011 items\n",
      "Using 254408 items for training\n",
      "Using 31801 items for validation\n",
      "Using 31802 items for testing\n"
     ]
    }
   ],
   "source": [
    "TRAIN_SPLIT = 0.8\n",
    "\n",
    "print('Loading the dataset into memory')\n",
    "dataset = np.load('dataset.npy')\n",
    "print(f'Finished loading the dataset, found {len(dataset)} items')\n",
    "\n",
    "class Dataset(dutils.Dataset):\n",
    "    def __init__(self, subset='training'):\n",
    "        super().__init__()\n",
    "    \n",
    "        self.subset = subset\n",
    "        \n",
    "        val_split = (1 - TRAIN_SPLIT) / 2\n",
    "    \n",
    "        self.num_train = int(len(dataset) * TRAIN_SPLIT)\n",
    "        self.num_val = int(len(dataset) * val_split)\n",
    "    \n",
    "        if subset == 'training':\n",
    "            self.num_items = self.num_train\n",
    "        elif subset == 'validation':\n",
    "            self.num_items = self.num_val\n",
    "        elif subset == 'testing':\n",
    "            self.num_items = len(dataset) - self.num_train - self.num_val\n",
    "        else:\n",
    "            self.num_items = len(dataset)\n",
    "            print('Warning: Unknown subset, using entire dataset')\n",
    "    \n",
    "        print(f'Using {self.num_items} items for {subset}')\n",
    "\t\n",
    "    def __len__(self):\n",
    "        return self.num_items\n",
    "    \n",
    "    def __getitem__(self, idx):\n",
    "        offset = 0\n",
    "        if self.subset == 'validation':\n",
    "            offset += self.num_train\n",
    "        if self.subset == 'testing':\n",
    "            offset += self.num_train + self.num_val\n",
    "        example = dataset[offset + idx]\n",
    "        inputs = example[:-1]\n",
    "        label = example[-1]\n",
    "        return inputs, label\n",
    "    \n",
    "train_ds = Dataset(subset='training')\n",
    "val_ds = Dataset(subset='validation')\n",
    "test_ds = Dataset(subset='testing')\n",
    "\n",
    "train_dl = dutils.DataLoader(train_ds, batch_size=256, shuffle=True)\n",
    "val_dl = dutils.DataLoader(val_ds, batch_size=256, shuffle=True)\n",
    "test_dl = dutils.DataLoader(test_ds, batch_size=256, shuffle=True)"
   ]
  },
  {
   "cell_type": "code",
   "execution_count": 3,
   "id": "3a37017d-899e-478b-92bd-5c7635d2d1fe",
   "metadata": {},
   "outputs": [
    {
     "data": {
      "text/plain": [
       "334"
      ]
     },
     "execution_count": 3,
     "metadata": {},
     "output_type": "execute_result"
    }
   ],
   "source": [
    "len(dataset[0])"
   ]
  },
  {
   "cell_type": "code",
   "execution_count": 4,
   "id": "f504c5c4-155e-4c2b-adb2-820f9ed83b24",
   "metadata": {},
   "outputs": [],
   "source": [
    "class TinyNet(nn.Module):\n",
    "\tdef __init__(self):\n",
    "\t\tsuper().__init__()\n",
    "\t\tself.stack = nn.Sequential(\n",
    "\t\t\tnn.Linear(333, 128),\n",
    "\t\t\tnn.ReLU(True),\n",
    "\n",
    "\t\t\tnn.Linear(128, 64),\n",
    "\t\t\tnn.ReLU(True),\n",
    "\n",
    "\t\t\tnn.Linear(64, 1)\n",
    "\t\t)\n",
    "\n",
    "\tdef forward(self, x):\n",
    "\t\treturn self.stack(x)"
   ]
  },
  {
   "cell_type": "code",
   "execution_count": 5,
   "id": "2ee9eb6f-35eb-4873-854e-9937ad4ea534",
   "metadata": {},
   "outputs": [
    {
     "name": "stdout",
     "output_type": "stream",
     "text": [
      "Using cuda\n"
     ]
    }
   ],
   "source": [
    "device = (\n",
    "\t'cuda' if torch.cuda.is_available() else\n",
    "\t'mps' if torch.backends.mps.is_available() else\n",
    "\t'cpu'\n",
    ")\n",
    "\n",
    "print(f'Using {device}')"
   ]
  },
  {
   "cell_type": "code",
   "execution_count": 6,
   "id": "70779a94-25f6-4602-a1bc-1a8ff79f7012",
   "metadata": {},
   "outputs": [],
   "source": [
    "net = TinyNet()\n",
    "net = net.to(device)\n",
    "\n",
    "optim = torch.optim.Adam(net.parameters(), lr=1e-3)\n",
    "loss_fn = torch.nn.BCEWithLogitsLoss()"
   ]
  },
  {
   "cell_type": "code",
   "execution_count": 7,
   "id": "02ddfa59-a859-475f-ad1f-d9f41748c882",
   "metadata": {},
   "outputs": [],
   "source": [
    "def train(dl):\n",
    "\tavg_loss = 0\n",
    "\tavg_acc = 0\n",
    "\tfor inputs, targets in tqdm(dl):\n",
    "\t\tinputs = inputs.to(device)\n",
    "\t\ttargets = targets.to(device)\n",
    "\n",
    "\t\tpreds = net(inputs)\n",
    "\t\tpreds = preds.view(-1)\n",
    "\t\tloss = loss_fn(preds, targets)\n",
    "\n",
    "\t\tnet.zero_grad()\n",
    "\t\tloss.backward()\n",
    "\t\toptim.step()\n",
    "\n",
    "\t\tavg_loss += loss.item()\n",
    "\n",
    "\t\tpreds = torch.sigmoid(preds)\n",
    "\t\tacc = (preds.round() == targets).float().sum().item() / len(targets)\n",
    "\t\tavg_acc += acc\n",
    "\tavg_loss /= len(dl)\n",
    "\tavg_acc /= len(dl)\n",
    "\n",
    "\treturn avg_loss, avg_acc"
   ]
  },
  {
   "cell_type": "code",
   "execution_count": 8,
   "id": "1c1e435b-80dc-4706-88ed-e54de6ae8a54",
   "metadata": {},
   "outputs": [],
   "source": [
    "def test(dl):\n",
    "\tavg_loss = 0\n",
    "\tavg_acc = 0\n",
    "\tfor inputs, targets in tqdm(dl):\n",
    "\t\tinputs = inputs.to(device)\n",
    "\t\ttargets = targets.to(device)\n",
    "\n",
    "\t\twith torch.no_grad():\n",
    "\t\t\tpreds = net(inputs)\n",
    "\t\tpreds = preds.view(-1)\n",
    "\t\tloss = loss_fn(preds, targets)\n",
    "\n",
    "\t\tavg_loss += loss.item()\n",
    "\n",
    "\t\tpreds = torch.sigmoid(preds)\n",
    "\t\tacc = (preds.round() == targets).float().sum().item() / len(targets)\n",
    "\t\tavg_acc += acc\n",
    "\tavg_loss /= len(dl)\n",
    "\tavg_acc /= len(dl)\n",
    "\n",
    "\treturn avg_loss, avg_acc"
   ]
  },
  {
   "cell_type": "code",
   "execution_count": 9,
   "id": "437bfc44-6f49-455f-9044-330e75a24a51",
   "metadata": {},
   "outputs": [
    {
     "name": "stdout",
     "output_type": "stream",
     "text": [
      "Epoch 1\n"
     ]
    },
    {
     "name": "stderr",
     "output_type": "stream",
     "text": [
      "100%|███████████████████████████████████████████████████████████████████████████████| 994/994 [00:03<00:00, 327.21it/s]\n",
      "100%|███████████████████████████████████████████████████████████████████████████████| 125/125 [00:00<00:00, 534.61it/s]\n"
     ]
    },
    {
     "name": "stdout",
     "output_type": "stream",
     "text": [
      "Training Loss: 0.5266215757165157\n",
      "Training Accuracy: 0.7139383174044266\n",
      "Validation Loss: 0.502224558353424\n",
      "Validation Accuracy : 0.7367856359649123\n",
      "Epoch 2\n"
     ]
    },
    {
     "name": "stderr",
     "output_type": "stream",
     "text": [
      "100%|███████████████████████████████████████████████████████████████████████████████| 994/994 [00:02<00:00, 347.81it/s]\n",
      "100%|███████████████████████████████████████████████████████████████████████████████| 125/125 [00:00<00:00, 570.40it/s]\n"
     ]
    },
    {
     "name": "stdout",
     "output_type": "stream",
     "text": [
      "Training Loss: 0.46970824897289276\n",
      "Training Accuracy: 0.7607059544768612\n",
      "Validation Loss: 0.4619376087188721\n",
      "Validation Accuracy : 0.7664566885964912\n",
      "Epoch 3\n"
     ]
    },
    {
     "name": "stderr",
     "output_type": "stream",
     "text": [
      "100%|███████████████████████████████████████████████████████████████████████████████| 994/994 [00:02<00:00, 352.63it/s]\n",
      "100%|███████████████████████████████████████████████████████████████████████████████| 125/125 [00:00<00:00, 557.99it/s]\n"
     ]
    },
    {
     "name": "stdout",
     "output_type": "stream",
     "text": [
      "Training Loss: 0.37455002816630084\n",
      "Training Accuracy: 0.8220507419517102\n",
      "Validation Loss: 0.3491289641857147\n",
      "Validation Accuracy : 0.8360175438596491\n",
      "Epoch 4\n"
     ]
    },
    {
     "name": "stderr",
     "output_type": "stream",
     "text": [
      "100%|███████████████████████████████████████████████████████████████████████████████| 994/994 [00:02<00:00, 338.42it/s]\n",
      "100%|███████████████████████████████████████████████████████████████████████████████| 125/125 [00:00<00:00, 473.99it/s]\n"
     ]
    },
    {
     "name": "stdout",
     "output_type": "stream",
     "text": [
      "Training Loss: 0.28282964655331205\n",
      "Training Accuracy: 0.8735863619215292\n",
      "Validation Loss: 0.2915554004907608\n",
      "Validation Accuracy : 0.8675657894736841\n",
      "Epoch 5\n"
     ]
    },
    {
     "name": "stderr",
     "output_type": "stream",
     "text": [
      "100%|███████████████████████████████████████████████████████████████████████████████| 994/994 [00:03<00:00, 303.49it/s]\n",
      "100%|███████████████████████████████████████████████████████████████████████████████| 125/125 [00:00<00:00, 538.94it/s]"
     ]
    },
    {
     "name": "stdout",
     "output_type": "stream",
     "text": [
      "Training Loss: 0.2068000092682704\n",
      "Training Accuracy: 0.9109169076961771\n",
      "Validation Loss: 0.1932852772474289\n",
      "Validation Accuracy : 0.9166101973684211\n"
     ]
    },
    {
     "name": "stderr",
     "output_type": "stream",
     "text": [
      "\n"
     ]
    }
   ],
   "source": [
    "train_losses, train_accs = [], []\n",
    "val_losses, val_accs = [], []\n",
    "for epoch in range(5):\n",
    "\tprint(f'Epoch {epoch+1}')\n",
    "\tt_loss, t_accuracy = train(train_dl)\n",
    "\tv_loss, v_accuracy = test(val_dl)\n",
    "\ttrain_losses.append(t_loss)\n",
    "\ttrain_accs.append(t_accuracy)\n",
    "\tval_losses.append(v_loss)\n",
    "\tval_accs.append(v_accuracy)\n",
    "\tprint(f'Training Loss: {t_loss}')\n",
    "\tprint(f'Training Accuracy: {t_accuracy}')\n",
    "\tprint(f'Validation Loss: {v_loss}')\n",
    "\tprint(f'Validation Accuracy : {v_accuracy}')"
   ]
  },
  {
   "cell_type": "code",
   "execution_count": 10,
   "id": "4e7d9cd6-e420-49ea-be40-40eb8e926080",
   "metadata": {},
   "outputs": [
    {
     "data": {
      "image/png": "[encoded data removed]",
      "text/plain": [
       "<Figure size 1200x400 with 2 Axes>"
      ]
     },
     "metadata": {},
     "output_type": "display_data"
    }
   ],
   "source": [
    "plt.figure(figsize=(12, 4))\n",
    "\n",
    "plt.subplot(1, 2, 1)\n",
    "plt.plot(train_losses, label=\"Train Loss\")\n",
    "plt.plot(val_losses, label=\"Validation Loss\")\n",
    "plt.legend()\n",
    "plt.xlabel(\"Epochs\")\n",
    "plt.ylabel(\"Loss\")\n",
    "plt.title(\"Training and Validation Loss\")\n",
    "\n",
    "plt.subplot(1, 2, 2)\n",
    "plt.plot(train_accs, label=\"Train Accuracy\")\n",
    "plt.plot(val_accs, label=\"Validation Accuracy\")\n",
    "plt.legend()\n",
    "plt.xlabel(\"Epochs\")\n",
    "plt.ylabel(\"Accuracy\")\n",
    "plt.title(\"Training and Validation Accuracy\")\n",
    "\n",
    "plt.show()"
   ]
  },
  {
   "cell_type": "code",
   "execution_count": 11,
   "id": "90876dec-8215-4cae-bed9-85dcbef7a86d",
   "metadata": {},
   "outputs": [
    {
     "name": "stderr",
     "output_type": "stream",
     "text": [
      "100%|███████████████████████████████████████████████████████████████████████████████| 125/125 [00:00<00:00, 477.35it/s]"
     ]
    },
    {
     "name": "stdout",
     "output_type": "stream",
     "text": [
      "Loss: 0.19468749880790712, Accuracy: 0.9159040948275862\n"
     ]
    },
    {
     "name": "stderr",
     "output_type": "stream",
     "text": [
      "\n"
     ]
    }
   ],
   "source": [
    "loss, accuracy = test(test_dl)\n",
    "print(f\"Loss: {loss}, Accuracy: {accuracy}\")"
   ]
  },
  {
   "cell_type": "code",
   "execution_count": 12,
   "id": "1c72820f-26ab-4106-ae18-428f340a2eef",
   "metadata": {},
   "outputs": [],
   "source": [
    "def get_accuracy_by_minute():\n",
    "    acc_dic = {}\n",
    "    count_dic = {}\n",
    "    for batch, targets in tqdm(test_dl):\n",
    "        batch = batch.to(device)\n",
    "        targets = targets.to(device)\n",
    "        with torch.no_grad():\n",
    "            predictions = net(batch)\n",
    "        predictions = torch.sigmoid(predictions)\n",
    "        for i in range(len(batch)):\n",
    "            tstep = str(int(batch[i][-1] * 30))\n",
    "            if tstep in acc_dic:\n",
    "                if predictions[i].round() == targets[i]:\n",
    "                    acc_dic[tstep] += 1\n",
    "                count_dic[tstep] += 1\n",
    "            else:\n",
    "                acc_dic[tstep] = 0\n",
    "                if predictions[i].round() == targets[i]:\n",
    "                    acc_dic[tstep] = 1\n",
    "                count_dic[tstep] = 1\n",
    "    return acc_dic, count_dic"
   ]
  },
  {
   "cell_type": "code",
   "execution_count": 13,
   "id": "a3b0dafa-2401-4233-90d4-185291cbef5b",
   "metadata": {},
   "outputs": [
    {
     "name": "stderr",
     "output_type": "stream",
     "text": [
      "100%|████████████████████████████████████████████████████████████████████████████████| 125/125 [00:04<00:00, 29.09it/s]\n"
     ]
    }
   ],
   "source": [
    "acc_dic, count_dic = get_accuracy_by_minute()"
   ]
  },
  {
   "cell_type": "code",
   "execution_count": 14,
   "id": "cf88cb8d-7954-44da-aca3-68ebefd42d3f",
   "metadata": {},
   "outputs": [
    {
     "data": {
      "text/plain": [
       "{'2': 885,\n",
       " '1': 816,\n",
       " '5': 876,\n",
       " '10': 937,\n",
       " '11': 954,\n",
       " '27': 731,\n",
       " '23': 895,\n",
       " '30': 530,\n",
       " '24': 871,\n",
       " '3': 829,\n",
       " '38': 103,\n",
       " '16': 1021,\n",
       " '13': 946,\n",
       " '31': 451,\n",
       " '0': 860,\n",
       " '4': 874,\n",
       " '14': 999,\n",
       " '15': 1004,\n",
       " '12': 924,\n",
       " '25': 815,\n",
       " '18': 910,\n",
       " '22': 874,\n",
       " '8': 923,\n",
       " '28': 619,\n",
       " '19': 909,\n",
       " '17': 951,\n",
       " '6': 908,\n",
       " '32': 350,\n",
       " '33': 300,\n",
       " '9': 912,\n",
       " '21': 922,\n",
       " '26': 780,\n",
       " '7': 924,\n",
       " '20': 902,\n",
       " '29': 553,\n",
       " '43': 21,\n",
       " '36': 162,\n",
       " '47': 6,\n",
       " '34': 257,\n",
       " '40': 48,\n",
       " '35': 200,\n",
       " '39': 80,\n",
       " '42': 43,\n",
       " '41': 47,\n",
       " '37': 141,\n",
       " '48': 4,\n",
       " '46': 13,\n",
       " '44': 25,\n",
       " '45': 11,\n",
       " '54': 3,\n",
       " '50': 3,\n",
       " '51': 2,\n",
       " '52': 2,\n",
       " '49': 2}"
      ]
     },
     "execution_count": 14,
     "metadata": {},
     "output_type": "execute_result"
    }
   ],
   "source": [
    "acc_dic"
   ]
  },
  {
   "cell_type": "code",
   "execution_count": 15,
   "id": "f4767bcf-b6bf-4306-ad8d-983942bce57b",
   "metadata": {},
   "outputs": [],
   "source": [
    "for n in acc_dic.keys():\n",
    "    acc_dic[n] /= count_dic[n]"
   ]
  },
  {
   "cell_type": "code",
   "execution_count": 16,
   "id": "f2305d70-8f56-4086-b356-3218400faadc",
   "metadata": {},
   "outputs": [],
   "source": [
    "idx = 0\n",
    "acc_by_time = []\n",
    "while str(idx) in acc_dic:\n",
    "    n = acc_dic[str(idx)]\n",
    "    acc_by_time.append(n)\n",
    "    idx += 1"
   ]
  },
  {
   "cell_type": "code",
   "execution_count": 17,
   "id": "cd43fba2-e1b8-47d8-85d4-4151daf81504",
   "metadata": {},
   "outputs": [
    {
     "data": {
      "text/plain": [
       "0.9595744680851064"
      ]
     },
     "execution_count": 17,
     "metadata": {},
     "output_type": "execute_result"
    }
   ],
   "source": [
    "acc_by_time[20]"
   ]
  },
  {
   "cell_type": "code",
   "execution_count": 18,
   "id": "848f0e8b-f531-49aa-8986-0cb604e76616",
   "metadata": {},
   "outputs": [
    {
     "data": {
      "text/plain": [
       "[0.7962962962962963,\n",
       " 0.7838616714697406,\n",
       " 0.7994579945799458,\n",
       " 0.7986512524084779,\n",
       " 0.8229755178907722,\n",
       " 0.8439306358381503,\n",
       " 0.8384118190212373,\n",
       " 0.8766603415559773,\n",
       " 0.8765432098765432,\n",
       " 0.8897560975609756,\n",
       " 0.9044401544401545,\n",
       " 0.9129186602870814,\n",
       " 0.9295774647887324,\n",
       " 0.9193391642371235,\n",
       " 0.9336448598130841,\n",
       " 0.9543726235741445,\n",
       " 0.9506517690875232,\n",
       " 0.9548192771084337,\n",
       " 0.9498956158663883,\n",
       " 0.9588607594936709,\n",
       " 0.9595744680851064,\n",
       " 0.9624217118997912,\n",
       " 0.9732739420935412,\n",
       " 0.9738846572361263,\n",
       " 0.9720982142857143,\n",
       " 0.9831121833534379,\n",
       " 0.972568578553616,\n",
       " 0.9785809906291834,\n",
       " 0.9856687898089171,\n",
       " 0.9822380106571936,\n",
       " 0.9814814814814815,\n",
       " 0.9783080260303688,\n",
       " 0.9915014164305949,\n",
       " 0.9900990099009901,\n",
       " 0.9922779922779923,\n",
       " 0.9950248756218906,\n",
       " 0.9938650306748467,\n",
       " 0.9929577464788732,\n",
       " 0.9903846153846154,\n",
       " 0.9876543209876543,\n",
       " 0.9795918367346939,\n",
       " 1.0,\n",
       " 1.0,\n",
       " 1.0,\n",
       " 0.9615384615384616,\n",
       " 1.0,\n",
       " 1.0,\n",
       " 1.0,\n",
       " 1.0,\n",
       " 1.0,\n",
       " 1.0,\n",
       " 1.0,\n",
       " 1.0]"
      ]
     },
     "execution_count": 18,
     "metadata": {},
     "output_type": "execute_result"
    }
   ],
   "source": [
    "acc_by_time"
   ]
  },
  {
   "cell_type": "code",
   "execution_count": 19,
   "id": "88fc6b18-656c-420a-8dcc-cb346417455d",
   "metadata": {},
   "outputs": [
    {
     "data": {
      "image/png": "[encoded data removed]",
      "text/plain": [
       "<Figure size 800x400 with 1 Axes>"
      ]
     },
     "metadata": {},
     "output_type": "display_data"
    }
   ],
   "source": [
    "plt.figure(figsize=(8, 4))\n",
    "plt.title('Accuracy over time')\n",
    "plt.plot(acc_by_time)\n",
    "plt.xlabel('Minutes')\n",
    "plt.ylabel('Accuracy')\n",
    "plt.show()"
   ]
  },
  {
   "cell_type": "code",
   "execution_count": 20,
   "id": "8da57590-35d4-43d2-bd7e-0a8a3edd8ad2",
   "metadata": {},
   "outputs": [],
   "source": [
    "inputs, targets = next(iter(train_dl))"
   ]
  },
  {
   "cell_type": "code",
   "execution_count": 21,
   "id": "38bc5754-70ea-4eff-8440-61baf6eaeb05",
   "metadata": {},
   "outputs": [
    {
     "data": {
      "text/plain": [
       "256"
      ]
     },
     "execution_count": 21,
     "metadata": {},
     "output_type": "execute_result"
    }
   ],
   "source": [
    "len(inputs)"
   ]
  },
  {
   "cell_type": "code",
   "execution_count": 22,
   "id": "c827815c-6eb1-4632-bd20-4a75a62fca9c",
   "metadata": {},
   "outputs": [
    {
     "data": {
      "text/plain": [
       "256"
      ]
     },
     "execution_count": 22,
     "metadata": {},
     "output_type": "execute_result"
    }
   ],
   "source": [
    "len(targets)"
   ]
  },
  {
   "cell_type": "code",
   "execution_count": 23,
   "id": "f4d7695d-724f-46e5-b5fd-4efd89e4f176",
   "metadata": {},
   "outputs": [],
   "source": [
    "net = net.cpu()"
   ]
  },
  {
   "cell_type": "code",
   "execution_count": 24,
   "id": "d6ecc3cc-3c47-479b-b42b-bf4a227f68f9",
   "metadata": {},
   "outputs": [],
   "source": [
    "torch.save(net.state_dict(), 'net.pth')"
   ]
  }
 ],
 "metadata": {
  "kernelspec": {
   "display_name": "Python 3 (ipykernel)",
   "language": "python",
   "name": "python3"
  },
  "language_info": {
   "codemirror_mode": {
    "name": "ipython",
    "version": 3
   },
   "file_extension": ".py",
   "mimetype": "text/x-python",
   "name": "python",
   "nbconvert_exporter": "python",
   "pygments_lexer": "ipython3",
   "version": "3.12.2"
  }
 },
 "nbformat": 4,
 "nbformat_minor": 5
}
